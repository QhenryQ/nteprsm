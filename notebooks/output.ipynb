{
 "cells": [
  {
   "cell_type": "code",
   "execution_count": null,
   "metadata": {},
   "outputs": [],
   "source": [
    "import pandas as pd\n",
    "import arviz as az\n",
    "import numpy as np\n",
    "import matplotlib.pyplot as plt\n",
    "\n",
    "# Load the CSV file\n",
    "csv_file_path = '/Users/kametayturar/nteprsm/data/raw/quality_nj2.csv'\n",
    "csv_data = pd.read_csv(csv_file_path)\n",
    "\n",
    "# Create entry mapping\n",
    "entry_mapping = csv_data[['ENTRY_CODE', 'ENTRY_NAME']].drop_duplicates().reset_index(drop=True)\n",
    "\n",
    "print(\"Entry Mapping (first few rows):\")\n",
    "print(entry_mapping.head())"
   ]
  },
  {
   "cell_type": "code",
   "execution_count": null,
   "metadata": {},
   "outputs": [],
   "source": [
    "# Load the NetCDF file\n",
    "netcdf_file_path = '/Users/kametayturar/nteprsm/data/model_output/trace_20240710_124044.netcdf'\n",
    "trace = az.from_netcdf(netcdf_file_path)\n",
    "\n",
    "# Extract the entry samples\n",
    "entry_samples = trace.posterior['entry'].values\n",
    "\n",
    "# Calculate statistics\n",
    "entry_means = np.mean(entry_samples, axis=(0, 1))\n",
    "entry_stds = np.std(entry_samples, axis=(0, 1))\n",
    "entry_2_5_percentile = np.percentile(entry_samples, 2.5, axis=(0, 1))\n",
    "entry_97_5_percentile = np.percentile(entry_samples, 97.5, axis=(0, 1))\n",
    "\n",
    "print(\"Shape of entry_samples:\", entry_samples.shape)\n",
    "print(\"Number of entries:\", len(entry_means))"
   ]
  },
  {
   "cell_type": "code",
   "execution_count": null,
   "metadata": {},
   "outputs": [],
   "source": [
    "# Create a DataFrame with these statistics\n",
    "new_model_data = pd.DataFrame({\n",
    "    'ENTRY_CODE': entry_mapping['ENTRY_CODE'].values[:len(entry_means)],\n",
    "    'EFF_RSM': entry_means,\n",
    "    'STD_RSM': entry_stds,\n",
    "    '2.5RSM': entry_2_5_percentile,\n",
    "    '97.5RSM': entry_97_5_percentile\n",
    "})\n",
    "\n",
    "# Merge with entry names\n",
    "new_model_data = new_model_data.merge(entry_mapping, on='ENTRY_CODE', how='left')\n",
    "\n",
    "print(\"New Model Data (first few rows):\")\n",
    "print(new_model_data.head())\n",
    "\n",
    "# Save the new model data\n",
    "new_model_data_path = \"/Users/kametayturar/nteprsm/notebooks/new_model_data.csv\"\n",
    "new_model_data.to_csv(new_model_data_path, index=False)\n",
    "print(f\"New model data saved to {new_model_data_path}\")"
   ]
  },
  {
   "cell_type": "code",
   "execution_count": null,
   "metadata": {},
   "outputs": [],
   "source": [
    "# Load the previous model results\n",
    "prev_model_file_path = \"/Users/kametayturar/nteprsm/data/raw/data.csv\"\n",
    "prev_model_data = pd.read_csv(prev_model_file_path, delimiter=';')\n",
    "\n",
    "print(\"Previous Model Data columns:\")\n",
    "print(prev_model_data.columns)\n",
    "\n",
    "# Merge new and previous model data\n",
    "merged_data = pd.merge(new_model_data, prev_model_data, on='ENTRY_NAME', suffixes=('_New', '_Prev'))\n",
    "\n",
    "print(\"Merged Data (first few rows):\")\n",
    "print(merged_data.head())\n",
    "\n",
    "# Save the merged data\n",
    "merged_data_path = \"/Users/kametayturar/nteprsm/notebooks/merged_data.csv\"\n",
    "merged_data.to_csv(merged_data_path, index=False)\n",
    "print(f\"Merged data saved to {merged_data_path}\")"
   ]
  },
  {
   "cell_type": "code",
   "execution_count": null,
   "metadata": {},
   "outputs": [],
   "source": [
    "plt.figure(figsize=(12, 8))\n",
    "\n",
    "scatter = plt.scatter(merged_data['EFF_RSM_Prev'], merged_data['EFF_RSM_New'], \n",
    "                      alpha=0.7, edgecolors='k', c=merged_data['STD_RSM_New'], cmap='viridis')\n",
    "\n",
    "plt.xlabel('EFF_RSM from Previous Model', fontsize=12)\n",
    "plt.ylabel('EFF_RSM from New Model', fontsize=12)\n",
    "plt.title('Comparison of EFF_RSM between Previous and New Models', fontsize=14)\n",
    "\n",
    "min_value = min(merged_data['EFF_RSM_Prev'].min(), merged_data['EFF_RSM_New'].min())\n",
    "max_value = max(merged_data['EFF_RSM_Prev'].max(), merged_data['EFF_RSM_New'].max())\n",
    "plt.plot([min_value, max_value], [min_value, max_value], color='red', linestyle='--', label='Line of Equality')\n",
    "\n",
    "cbar = plt.colorbar(scatter)\n",
    "cbar.set_label('STD_RSM_New', rotation=270, labelpad=15)\n",
    "\n",
    "for i, row in merged_data.iterrows():\n",
    "    if abs(row['EFF_RSM_New'] - row['EFF_RSM_Prev']) > 0.5:\n",
    "        plt.annotate(row['ENTRY_NAME'], (row['EFF_RSM_Prev'], row['EFF_RSM_New']),\n",
    "                     xytext=(5, 5), textcoords='offset points', fontsize=8)\n",
    "\n",
    "plt.grid(True, linestyle=':', alpha=0.7)\n",
    "plt.legend()\n",
    "plt.tight_layout()\n",
    "plt.show()"
   ]
  },
  {
   "cell_type": "code",
   "execution_count": null,
   "metadata": {},
   "outputs": [],
   "source": [
    "correlation = merged_data['EFF_RSM_New'].corr(merged_data['EFF_RSM_Prev'])\n",
    "print(f\"Correlation coefficient between EFF_RSM_New and EFF_RSM_Prev: {correlation:.4f}\")\n",
    "\n",
    "mean_abs_diff = np.mean(np.abs(merged_data['EFF_RSM_New'] - merged_data['EFF_RSM_Prev']))\n",
    "print(f\"Mean absolute difference between EFF_RSM_New and EFF_RSM_Prev: {mean_abs_diff:.4f}\")"
   ]
  },
  {
   "cell_type": "code",
   "execution_count": null,
   "metadata": {},
   "outputs": [],
   "source": [
    "import matplotlib.pyplot as plt\n",
    "import numpy as np\n",
    "\n",
    "# Calculate the difference between the new and previous EFF_RSM values\n",
    "merged_data['EFF_RSM_Diff'] = merged_data['EFF_RSM_New'] - merged_data['EFF_RSM_Prev']\n",
    "\n",
    "# Scatter plot to visualize differences\n",
    "plt.figure(figsize=(15, 6))\n",
    "plt.scatter(merged_data['ENTRY_NAME'], merged_data['EFF_RSM_Diff'], alpha=0.7, edgecolors='k')\n",
    "\n",
    "# Highlight points with significant differences\n",
    "threshold = 0.5  # Define a threshold for significant difference\n",
    "significant_diff = merged_data[np.abs(merged_data['EFF_RSM_Diff']) > threshold]\n",
    "plt.scatter(significant_diff['ENTRY_NAME'], significant_diff['EFF_RSM_Diff'], color='red', edgecolors='k', label='Significant Difference')\n",
    "\n",
    "plt.axhline(0, color='grey', linestyle='--')  # Line at zero difference\n",
    "plt.xlabel('Entry Name')\n",
    "plt.ylabel('Difference in EFF_RSM (New - Previous)')\n",
    "plt.title('Difference in EFF_RSM between New and Previous Models')\n",
    "plt.xticks(rotation=90)\n",
    "plt.grid(True)\n",
    "plt.legend()\n",
    "plt.tight_layout()\n",
    "plt.show()\n"
   ]
  }
 ],
 "metadata": {
  "kernelspec": {
   "display_name": "Python 3.12.4 ('.venv': poetry)",
   "language": "python",
   "name": "python3"
  },
  "language_info": {
   "codemirror_mode": {
    "name": "ipython",
    "version": 3
   },
   "file_extension": ".py",
   "mimetype": "text/x-python",
   "name": "python",
   "nbconvert_exporter": "python",
   "pygments_lexer": "ipython3",
   "version": "3.12.4"
  },
  "orig_nbformat": 4,
  "vscode": {
   "interpreter": {
    "hash": "f82ab9d5730e824692a13725e29fbb1815f5c26873d317ee05d60ff96c405e7e"
   }
  }
 },
 "nbformat": 4,
 "nbformat_minor": 2
}
