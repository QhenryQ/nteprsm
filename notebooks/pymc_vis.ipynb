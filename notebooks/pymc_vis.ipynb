{
 "cells": [
  {
   "cell_type": "code",
   "execution_count": null,
   "metadata": {},
   "outputs": [],
   "source": [
    "import pandas as pd\n",
    "from glob import glob\n",
    "import arviz as az\n",
    "import numpy as np\n",
    "import matplotlib.pyplot as plt\n",
    "from pathlib import Path\n",
    "from nteprsm import constants\n",
    "from cmdstanpy import stanfit\n",
    "from settings import ROOT_DIR, DATA_DIR\n",
    "import plotly.express as px\n",
    "import utils as notebook_utils\n",
    "\n",
    "# use customize plotly template\n",
    "notebook_utils.set_custom_template()\n",
    "from importlib import reload\n",
    "reload(notebook_utils)\n"
   ]
  },
  {
   "cell_type": "code",
   "execution_count": null,
   "metadata": {},
   "outputs": [],
   "source": [
    "# Load the CSV file with entry information\n",
    "csv_file_path = DATA_DIR / 'raw/quality_nj2.csv'\n",
    "csv_data = pd.read_csv(csv_file_path)\n",
    "\n",
    "# Create entry mapping\n",
    "entry_mapping = csv_data[['ENTRY_CODE', 'ENTRY_NAME']].drop_duplicates().reset_index(drop=True)\n",
    "\n",
    "print(\"Entry Mapping (first few rows):\")\n",
    "print(entry_mapping.head())\n"
   ]
  },
  {
   "cell_type": "code",
   "execution_count": null,
   "metadata": {},
   "outputs": [],
   "source": [
    "# Load the NetCDF file (PyMC model output)\n",
    "netcdf_file_path = DATA_DIR / 'model_output/trace_20240715_230759.netcdf'\n",
    "trace = az.from_netcdf(netcdf_file_path)\n",
    "\n",
    "summary = az.summary(trace)\n",
    "\n",
    "# Extract the entry samples from PyMC model\n",
    "entry_samples_pymc = trace.posterior['entry'].values\n",
    "\n",
    "# Calculate statistics for PyMC model\n",
    "entry_means_pymc = np.mean(entry_samples_pymc, axis=(0, 1))\n",
    "entry_stds_pymc = np.std(entry_samples_pymc, axis=(0, 1))\n",
    "entry_2_5_percentile_pymc = np.percentile(entry_samples_pymc, 2.5, axis=(0, 1))\n",
    "entry_97_5_percentile_pymc = np.percentile(entry_samples_pymc, 97.5, axis=(0, 1))\n",
    "\n",
    "print(\"Shape of entry_samples_pymc:\", entry_samples_pymc.shape)\n",
    "print(\"Number of entries:\", len(entry_means_pymc))\n"
   ]
  },
  {
   "cell_type": "code",
   "execution_count": null,
   "metadata": {},
   "outputs": [],
   "source": [
    "# Create DataFrame for PyMC model results\n",
    "pymc_model_data = pd.DataFrame({\n",
    "    'ENTRY_CODE': np.array(range(len(entry_means_pymc))) + 1,\n",
    "    'EFF_RSM_PyMC': entry_means_pymc,\n",
    "    'STD_RSM_PyMC': entry_stds_pymc,\n",
    "    '2.5RSM_PyMC': entry_2_5_percentile_pymc,\n",
    "    '97.5RSM_PyMC': entry_97_5_percentile_pymc\n",
    "})\n",
    "\n",
    "# Merge with entry names\n",
    "pymc_model_data = pymc_model_data.merge(entry_mapping, on='ENTRY_CODE', how='left')\n",
    "\n",
    "print(\"PyMC Model Data (first few rows):\")\n",
    "print(pymc_model_data.head())\n"
   ]
  },
  {
   "cell_type": "code",
   "execution_count": null,
   "metadata": {},
   "outputs": [],
   "source": [
    "# Load model configuration\n",
    "config_file = ROOT_DIR / \"config/nteprsm_njkbg07.yml\"\n",
    "config = utils.load_config(config_file)\n",
    "\n",
    "# Load posterior samples from csv files\n",
    "files = glob(str(ROOT_DIR / config[\"sampling\"][\"output_dir\"] / \"no_consistent_rater_model_dist_matrix-20240626_*.csv\"))\n",
    "fit = stanfit.from_csv(files)\n"
   ]
  },
  {
   "cell_type": "code",
   "execution_count": null,
   "metadata": {},
   "outputs": [],
   "source": [
    "# Process data\n",
    "datahandler = utils.DataHandler(filepath=ROOT_DIR / config[\"data_path\"])\n",
    "datahandler.load_data()\n",
    "datahandler.preprocess_data()\n",
    "datahandler.generate_stan_data(**config[\"stan_additional_data\"])"
   ]
  },
  {
   "cell_type": "code",
   "execution_count": null,
   "metadata": {},
   "outputs": [],
   "source": [
    "def extract(variable, results, n_burnin=400):\n",
    "    col_name = variable.upper() + \"_EFF\"\n",
    "    var_name = variable.upper() + \"_CODE\"\n",
    "    str_to_drop = variable + \"[\"\n",
    "    results_data = results[results.index > n_burnin]\n",
    "    variable_data = pd.DataFrame(\n",
    "        results_data.loc[\n",
    "            :,\n",
    "            (results_data.columns.str.startswith(variable))\n",
    "            & (~results_data.columns.str.contains(\"free\")),\n",
    "        ].mean(),\n",
    "        columns=[col_name],\n",
    "    )\n",
    "    # If unable to extract the code, use the index\n",
    "    variable_data[var_name] = np.arange(len(variable_data)) + 1\n",
    "    variable_data.reset_index(drop=True, inplace=True)\n",
    "    return variable_data\n",
    "\n",
    "# Extract entry data\n",
    "entry_data = extract('entry', fit.draws_pd())\n",
    "\n",
    "# Correctly assign data attribute if missing in datahandler\n",
    "if not hasattr(datahandler, 'data'):\n",
    "    datahandler.data = csv_data\n",
    "\n",
    "# Merge with entry names\n",
    "entry_mapping = datahandler.data[['ENTRY_CODE', 'ENTRY_NAME']].drop_duplicates().reset_index(drop=True)\n",
    "stan_entry_data = entry_data.merge(entry_mapping, on='ENTRY_CODE', how='left')\n",
    "\n",
    "print(\"Stan Entry Data (first few rows):\")\n",
    "print(stan_entry_data)\n",
    "\n",
    "# Print some summary information\n",
    "print(f\"\\nNumber of entry parameters: {len(stan_entry_data)}\")\n",
    "\n",
    "# Check for any missing matches\n",
    "missing_matches = stan_entry_data[stan_entry_data['ENTRY_NAME'].isnull()]\n",
    "if not missing_matches.empty:\n",
    "    print(\"\\nWarning: Some entries didn't match with names:\")\n",
    "    print(missing_matches)\n"
   ]
  },
  {
   "cell_type": "code",
   "execution_count": null,
   "metadata": {},
   "outputs": [],
   "source": [
    "# Ensure 'ENTRY_NAME' is present in both datasets\n",
    "pymc_model_data = pymc_model_data.dropna(subset=['ENTRY_NAME'])\n",
    "stan_entry_data = stan_entry_data.dropna(subset=['ENTRY_NAME'])\n",
    "\n",
    "# Merge PyMC and Stan model data on 'ENTRY_NAME'\n",
    "merged_data = pd.merge(pymc_model_data, stan_entry_data, on='ENTRY_NAME', suffixes=('_PyMC', '_Stan'))\n",
    "\n",
    "print(\"Merged Data (first few rows):\")\n",
    "print(merged_data.head())\n",
    "\n"
   ]
  },
  {
   "cell_type": "code",
   "execution_count": null,
   "metadata": {},
   "outputs": [],
   "source": [
    "plt.figure(figsize=(12, 8))\n",
    "\n",
    "scatter = plt.scatter(merged_data['ENTRY_EFF'], merged_data['EFF_RSM_PyMC'], \n",
    "                      alpha=0.7, edgecolors='k', c=merged_data['STD_RSM_PyMC'], cmap='viridis')\n",
    "\n",
    "plt.xlabel('EFF_RSM from Stan Model', fontsize=12)\n",
    "plt.ylabel('EFF_RSM from PyMC Model', fontsize=12)\n",
    "plt.title('Comparison of EFF_RSM between Stan and PyMC Models', fontsize=14)\n",
    "\n",
    "min_value = min(merged_data['ENTRY_EFF'].min(), merged_data['EFF_RSM_PyMC'].min())\n",
    "max_value = max(merged_data['ENTRY_EFF'].max(), merged_data['EFF_RSM_PyMC'].max())\n",
    "plt.plot([min_value, max_value], [min_value, max_value], color='red', linestyle='--', label='Line of Equality')\n",
    "\n",
    "for i, row in merged_data.iterrows():\n",
    "    if abs(row['EFF_RSM_PyMC'] - row['ENTRY_EFF']) > 0.5:\n",
    "        plt.annotate(row['ENTRY_NAME'], (row['ENTRY_EFF'], row['EFF_RSM_PyMC']),\n",
    "                     xytext=(5, 5), textcoords='offset points', fontsize=8)\n",
    "\n",
    "plt.grid(True, linestyle=':', alpha=0.7)\n",
    "plt.legend()\n",
    "plt.tight_layout()\n",
    "plt.colorbar(scatter, label='STD_RSM_PyMC')\n",
    "plt.show()\n",
    "\n",
    "correlation = merged_data['EFF_RSM_PyMC'].corr(merged_data['ENTRY_EFF'])\n",
    "print(f\"Correlation coefficient between EFF_RSM_PyMC and ENTRY_EFF (Stan): {correlation:.4f}\")\n",
    "\n",
    "mean_abs_diff = np.mean(np.abs(merged_data['EFF_RSM_PyMC'] - merged_data['ENTRY_EFF']))\n",
    "print(f\"Mean absolute difference between EFF_RSM_PyMC and ENTRY_EFF (Stan): {mean_abs_diff:.4f}\")\n"
   ]
  }
 ],
 "metadata": {
  "kernelspec": {
   "display_name": "Python (nteprsm)",
   "language": "python",
   "name": "nteprsm"
  },
  "language_info": {
   "codemirror_mode": {
    "name": "ipython",
    "version": 3
   },
   "file_extension": ".py",
   "mimetype": "text/x-python",
   "name": "python",
   "nbconvert_exporter": "python",
   "pygments_lexer": "ipython3",
   "version": "3.12.4"
  },
  "orig_nbformat": 4,
  "vscode": {
   "interpreter": {
    "hash": "f82ab9d5730e824692a13725e29fbb1815f5c26873d317ee05d60ff96c405e7e"
   }
  }
 },
 "nbformat": 4,
 "nbformat_minor": 2
}
