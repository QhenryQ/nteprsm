{
 "cells": [
  {
   "cell_type": "code",
   "execution_count": 22,
   "id": "3bd25853",
   "metadata": {},
   "outputs": [],
   "source": [
    "import os\n",
    "import random\n",
    "import numpy as np\n",
    "import pandas as pd\n",
    "import plotly.express as px\n",
    "import plotly.graph_objects as go\n",
    "from cmdstanpy import CmdStanModel\n",
    "import cmdstanpy\n",
    "# Specify CmdStan location via environment variable\n",
    "os.environ['CMDSTAN'] = '/Users/henryqu/miniforge3/envs/cmdstan/bin/cmdstan'\n",
    "\n",
    "import plotly.io as pio\n",
    "pio.templates.default = \"simple_white\"\n",
    "\n",
    "import utils\n",
    "from nteprsm.constants import MONTH2ABBR\n",
    "ABBR2MONTH = {value: key for key, value in MONTH2ABBR.items()}"
   ]
  },
  {
   "cell_type": "markdown",
   "id": "51e613d3",
   "metadata": {},
   "source": [
    "# Simulation for parameter recovery"
   ]
  },
  {
   "cell_type": "markdown",
   "id": "57d135fb",
   "metadata": {},
   "source": [
    "## set parameters for simulation"
   ]
  },
  {
   "cell_type": "code",
   "execution_count": 24,
   "id": "688d5a40",
   "metadata": {},
   "outputs": [],
   "source": [
    "T = 5      # Total Number of years\n",
    "K = 12     # Total Number of months that ratings were conducted\n",
    "J = 10     # Total Number of cultivars evaluated\n",
    "M = 9      # Total Number of categories \n",
    "R = 5      # Total Number of Raters\n",
    "sigma = 0.7\n",
    "alpha = 0.15\n",
    "inv_rho = 0.4\n",
    "sigma_e = 0.2"
   ]
  },
  {
   "cell_type": "code",
   "execution_count": 25,
   "id": "b308397f",
   "metadata": {},
   "outputs": [],
   "source": [
    "## trial layout\n",
    "layout = pd.read_excel('./model_data/demo_layout.xlsx', sheet_name='layout', index_col=0)\n",
    "layout = utils.transform_layout_to_long_format(layout, 'PLOC_CODE')\n",
    "layout = layout.assign(ENTRY_CODE=random.sample(range(1,J+1), J) + random.sample(range(1,J+1), J)\n",
    "                       + random.sample(range(1,J+1), J))\n",
    "ploc_effs = pd.read_excel('./model_data/demo_layout.xlsx', sheet_name='ploc_eff', index_col=0)\n",
    "ploc_effs = utils.transform_layout_to_long_format(ploc_effs, 'PLOC_EFF')\n",
    "layout = pd.merge(layout, ploc_effs, on=['ROW', 'COL'])\n",
    "layout = layout.sort_values(by='PLOC_CODE')"
   ]
  },
  {
   "cell_type": "code",
   "execution_count": 26,
   "id": "92d795f1",
   "metadata": {},
   "outputs": [
    {
     "data": {
      "application/vnd.plotly.v1+json": {
       "config": {
        "plotlyServerURL": "https://plot.ly"
       },
       "data": [
        {
         "colorbar": {
          "title": {
           "text": "Plot Location <br>Effects"
          }
         },
         "hovertemplate": "Col # : %{x}<br>Row # : %{y}<br>Cultivar : %{text}<br>Plot Loc Effect: %{z:.2f}<extra></extra>",
         "text": [
          "Cultivar-9",
          "Cultivar-6",
          "Cultivar-4",
          "Cultivar-3",
          "Cultivar-3",
          "Cultivar-5",
          "Cultivar-1",
          "Cultivar-9",
          "Cultivar-10",
          "Cultivar-3",
          "Cultivar-4",
          "Cultivar-7",
          "Cultivar-8",
          "Cultivar-4",
          "Cultivar-9",
          "Cultivar-8",
          "Cultivar-6",
          "Cultivar-7",
          "Cultivar-8",
          "Cultivar-5",
          "Cultivar-1",
          "Cultivar-5",
          "Cultivar-10",
          "Cultivar-10",
          "Cultivar-7",
          "Cultivar-2",
          "Cultivar-1",
          "Cultivar-2",
          "Cultivar-6",
          "Cultivar-2"
         ],
         "textfont": {
          "size": 10
         },
         "texttemplate": "%{text}",
         "type": "heatmap",
         "x": [
          1,
          2,
          3,
          4,
          5,
          5,
          4,
          3,
          2,
          1,
          1,
          2,
          3,
          4,
          5,
          5,
          4,
          3,
          2,
          1,
          1,
          2,
          3,
          4,
          5,
          5,
          4,
          3,
          2,
          1
         ],
         "y": [
          1,
          1,
          1,
          1,
          1,
          2,
          2,
          2,
          2,
          2,
          3,
          3,
          3,
          3,
          3,
          4,
          4,
          4,
          4,
          4,
          5,
          5,
          5,
          5,
          5,
          6,
          6,
          6,
          6,
          6
         ],
         "z": [
          -0.9257115142139068,
          -0.03161756758669754,
          -0.22626607745965455,
          -0.7811906778182783,
          -0.6839998138100841,
          -0.6543498639783156,
          0.3024370041639035,
          -0.20582148274667234,
          -0.23404020930273273,
          -0.4221531473684842,
          -0.2324281931692901,
          0.3177882573404981,
          0.6311229061474312,
          0.4252868329519618,
          -0.2918182473087243,
          -0.2716909532129257,
          -0.27674451465616434,
          1.242893768973178,
          -0.15316622644818423,
          -0.10477090953822765,
          -0.19182879251026097,
          0.17838565359771252,
          -0.26243865975704805,
          0.41244016534236316,
          -0.29817938145114464,
          -0.6814392840266902,
          -0.4391366276956964,
          -0.984108635661222,
          -0.20440260857304315,
          -0.37672348609657247
         ]
        }
       ],
       "layout": {
        "autosize": false,
        "height": 500,
        "template": {
         "data": {
          "bar": [
           {
            "error_x": {
             "color": "rgb(36,36,36)"
            },
            "error_y": {
             "color": "rgb(36,36,36)"
            },
            "marker": {
             "line": {
              "color": "white",
              "width": 0.5
             },
             "pattern": {
              "fillmode": "overlay",
              "size": 10,
              "solidity": 0.2
             }
            },
            "type": "bar"
           }
          ],
          "barpolar": [
           {
            "marker": {
             "line": {
              "color": "white",
              "width": 0.5
             },
             "pattern": {
              "fillmode": "overlay",
              "size": 10,
              "solidity": 0.2
             }
            },
            "type": "barpolar"
           }
          ],
          "carpet": [
           {
            "aaxis": {
             "endlinecolor": "rgb(36,36,36)",
             "gridcolor": "white",
             "linecolor": "white",
             "minorgridcolor": "white",
             "startlinecolor": "rgb(36,36,36)"
            },
            "baxis": {
             "endlinecolor": "rgb(36,36,36)",
             "gridcolor": "white",
             "linecolor": "white",
             "minorgridcolor": "white",
             "startlinecolor": "rgb(36,36,36)"
            },
            "type": "carpet"
           }
          ],
          "choropleth": [
           {
            "colorbar": {
             "outlinewidth": 1,
             "tickcolor": "rgb(36,36,36)",
             "ticks": "outside"
            },
            "type": "choropleth"
           }
          ],
          "contour": [
           {
            "colorbar": {
             "outlinewidth": 1,
             "tickcolor": "rgb(36,36,36)",
             "ticks": "outside"
            },
            "colorscale": [
             [
              0,
              "#440154"
             ],
             [
              0.1111111111111111,
              "#482878"
             ],
             [
              0.2222222222222222,
              "#3e4989"
             ],
             [
              0.3333333333333333,
              "#31688e"
             ],
             [
              0.4444444444444444,
              "#26828e"
             ],
             [
              0.5555555555555556,
              "#1f9e89"
             ],
             [
              0.6666666666666666,
              "#35b779"
             ],
             [
              0.7777777777777778,
              "#6ece58"
             ],
             [
              0.8888888888888888,
              "#b5de2b"
             ],
             [
              1,
              "#fde725"
             ]
            ],
            "type": "contour"
           }
          ],
          "contourcarpet": [
           {
            "colorbar": {
             "outlinewidth": 1,
             "tickcolor": "rgb(36,36,36)",
             "ticks": "outside"
            },
            "type": "contourcarpet"
           }
          ],
          "heatmap": [
           {
            "colorbar": {
             "outlinewidth": 1,
             "tickcolor": "rgb(36,36,36)",
             "ticks": "outside"
            },
            "colorscale": [
             [
              0,
              "#440154"
             ],
             [
              0.1111111111111111,
              "#482878"
             ],
             [
              0.2222222222222222,
              "#3e4989"
             ],
             [
              0.3333333333333333,
              "#31688e"
             ],
             [
              0.4444444444444444,
              "#26828e"
             ],
             [
              0.5555555555555556,
              "#1f9e89"
             ],
             [
              0.6666666666666666,
              "#35b779"
             ],
             [
              0.7777777777777778,
              "#6ece58"
             ],
             [
              0.8888888888888888,
              "#b5de2b"
             ],
             [
              1,
              "#fde725"
             ]
            ],
            "type": "heatmap"
           }
          ],
          "heatmapgl": [
           {
            "colorbar": {
             "outlinewidth": 1,
             "tickcolor": "rgb(36,36,36)",
             "ticks": "outside"
            },
            "colorscale": [
             [
              0,
              "#440154"
             ],
             [
              0.1111111111111111,
              "#482878"
             ],
             [
              0.2222222222222222,
              "#3e4989"
             ],
             [
              0.3333333333333333,
              "#31688e"
             ],
             [
              0.4444444444444444,
              "#26828e"
             ],
             [
              0.5555555555555556,
              "#1f9e89"
             ],
             [
              0.6666666666666666,
              "#35b779"
             ],
             [
              0.7777777777777778,
              "#6ece58"
             ],
             [
              0.8888888888888888,
              "#b5de2b"
             ],
             [
              1,
              "#fde725"
             ]
            ],
            "type": "heatmapgl"
           }
          ],
          "histogram": [
           {
            "marker": {
             "line": {
              "color": "white",
              "width": 0.6
             }
            },
            "type": "histogram"
           }
          ],
          "histogram2d": [
           {
            "colorbar": {
             "outlinewidth": 1,
             "tickcolor": "rgb(36,36,36)",
             "ticks": "outside"
            },
            "colorscale": [
             [
              0,
              "#440154"
             ],
             [
              0.1111111111111111,
              "#482878"
             ],
             [
              0.2222222222222222,
              "#3e4989"
             ],
             [
              0.3333333333333333,
              "#31688e"
             ],
             [
              0.4444444444444444,
              "#26828e"
             ],
             [
              0.5555555555555556,
              "#1f9e89"
             ],
             [
              0.6666666666666666,
              "#35b779"
             ],
             [
              0.7777777777777778,
              "#6ece58"
             ],
             [
              0.8888888888888888,
              "#b5de2b"
             ],
             [
              1,
              "#fde725"
             ]
            ],
            "type": "histogram2d"
           }
          ],
          "histogram2dcontour": [
           {
            "colorbar": {
             "outlinewidth": 1,
             "tickcolor": "rgb(36,36,36)",
             "ticks": "outside"
            },
            "colorscale": [
             [
              0,
              "#440154"
             ],
             [
              0.1111111111111111,
              "#482878"
             ],
             [
              0.2222222222222222,
              "#3e4989"
             ],
             [
              0.3333333333333333,
              "#31688e"
             ],
             [
              0.4444444444444444,
              "#26828e"
             ],
             [
              0.5555555555555556,
              "#1f9e89"
             ],
             [
              0.6666666666666666,
              "#35b779"
             ],
             [
              0.7777777777777778,
              "#6ece58"
             ],
             [
              0.8888888888888888,
              "#b5de2b"
             ],
             [
              1,
              "#fde725"
             ]
            ],
            "type": "histogram2dcontour"
           }
          ],
          "mesh3d": [
           {
            "colorbar": {
             "outlinewidth": 1,
             "tickcolor": "rgb(36,36,36)",
             "ticks": "outside"
            },
            "type": "mesh3d"
           }
          ],
          "parcoords": [
           {
            "line": {
             "colorbar": {
              "outlinewidth": 1,
              "tickcolor": "rgb(36,36,36)",
              "ticks": "outside"
             }
            },
            "type": "parcoords"
           }
          ],
          "pie": [
           {
            "automargin": true,
            "type": "pie"
           }
          ],
          "scatter": [
           {
            "fillpattern": {
             "fillmode": "overlay",
             "size": 10,
             "solidity": 0.2
            },
            "type": "scatter"
           }
          ],
          "scatter3d": [
           {
            "line": {
             "colorbar": {
              "outlinewidth": 1,
              "tickcolor": "rgb(36,36,36)",
              "ticks": "outside"
             }
            },
            "marker": {
             "colorbar": {
              "outlinewidth": 1,
              "tickcolor": "rgb(36,36,36)",
              "ticks": "outside"
             }
            },
            "type": "scatter3d"
           }
          ],
          "scattercarpet": [
           {
            "marker": {
             "colorbar": {
              "outlinewidth": 1,
              "tickcolor": "rgb(36,36,36)",
              "ticks": "outside"
             }
            },
            "type": "scattercarpet"
           }
          ],
          "scattergeo": [
           {
            "marker": {
             "colorbar": {
              "outlinewidth": 1,
              "tickcolor": "rgb(36,36,36)",
              "ticks": "outside"
             }
            },
            "type": "scattergeo"
           }
          ],
          "scattergl": [
           {
            "marker": {
             "colorbar": {
              "outlinewidth": 1,
              "tickcolor": "rgb(36,36,36)",
              "ticks": "outside"
             }
            },
            "type": "scattergl"
           }
          ],
          "scattermapbox": [
           {
            "marker": {
             "colorbar": {
              "outlinewidth": 1,
              "tickcolor": "rgb(36,36,36)",
              "ticks": "outside"
             }
            },
            "type": "scattermapbox"
           }
          ],
          "scatterpolar": [
           {
            "marker": {
             "colorbar": {
              "outlinewidth": 1,
              "tickcolor": "rgb(36,36,36)",
              "ticks": "outside"
             }
            },
            "type": "scatterpolar"
           }
          ],
          "scatterpolargl": [
           {
            "marker": {
             "colorbar": {
              "outlinewidth": 1,
              "tickcolor": "rgb(36,36,36)",
              "ticks": "outside"
             }
            },
            "type": "scatterpolargl"
           }
          ],
          "scatterternary": [
           {
            "marker": {
             "colorbar": {
              "outlinewidth": 1,
              "tickcolor": "rgb(36,36,36)",
              "ticks": "outside"
             }
            },
            "type": "scatterternary"
           }
          ],
          "surface": [
           {
            "colorbar": {
             "outlinewidth": 1,
             "tickcolor": "rgb(36,36,36)",
             "ticks": "outside"
            },
            "colorscale": [
             [
              0,
              "#440154"
             ],
             [
              0.1111111111111111,
              "#482878"
             ],
             [
              0.2222222222222222,
              "#3e4989"
             ],
             [
              0.3333333333333333,
              "#31688e"
             ],
             [
              0.4444444444444444,
              "#26828e"
             ],
             [
              0.5555555555555556,
              "#1f9e89"
             ],
             [
              0.6666666666666666,
              "#35b779"
             ],
             [
              0.7777777777777778,
              "#6ece58"
             ],
             [
              0.8888888888888888,
              "#b5de2b"
             ],
             [
              1,
              "#fde725"
             ]
            ],
            "type": "surface"
           }
          ],
          "table": [
           {
            "cells": {
             "fill": {
              "color": "rgb(237,237,237)"
             },
             "line": {
              "color": "white"
             }
            },
            "header": {
             "fill": {
              "color": "rgb(217,217,217)"
             },
             "line": {
              "color": "white"
             }
            },
            "type": "table"
           }
          ]
         },
         "layout": {
          "annotationdefaults": {
           "arrowhead": 0,
           "arrowwidth": 1
          },
          "autotypenumbers": "strict",
          "coloraxis": {
           "colorbar": {
            "outlinewidth": 1,
            "tickcolor": "rgb(36,36,36)",
            "ticks": "outside"
           }
          },
          "colorscale": {
           "diverging": [
            [
             0,
             "rgb(103,0,31)"
            ],
            [
             0.1,
             "rgb(178,24,43)"
            ],
            [
             0.2,
             "rgb(214,96,77)"
            ],
            [
             0.3,
             "rgb(244,165,130)"
            ],
            [
             0.4,
             "rgb(253,219,199)"
            ],
            [
             0.5,
             "rgb(247,247,247)"
            ],
            [
             0.6,
             "rgb(209,229,240)"
            ],
            [
             0.7,
             "rgb(146,197,222)"
            ],
            [
             0.8,
             "rgb(67,147,195)"
            ],
            [
             0.9,
             "rgb(33,102,172)"
            ],
            [
             1,
             "rgb(5,48,97)"
            ]
           ],
           "sequential": [
            [
             0,
             "#440154"
            ],
            [
             0.1111111111111111,
             "#482878"
            ],
            [
             0.2222222222222222,
             "#3e4989"
            ],
            [
             0.3333333333333333,
             "#31688e"
            ],
            [
             0.4444444444444444,
             "#26828e"
            ],
            [
             0.5555555555555556,
             "#1f9e89"
            ],
            [
             0.6666666666666666,
             "#35b779"
            ],
            [
             0.7777777777777778,
             "#6ece58"
            ],
            [
             0.8888888888888888,
             "#b5de2b"
            ],
            [
             1,
             "#fde725"
            ]
           ],
           "sequentialminus": [
            [
             0,
             "#440154"
            ],
            [
             0.1111111111111111,
             "#482878"
            ],
            [
             0.2222222222222222,
             "#3e4989"
            ],
            [
             0.3333333333333333,
             "#31688e"
            ],
            [
             0.4444444444444444,
             "#26828e"
            ],
            [
             0.5555555555555556,
             "#1f9e89"
            ],
            [
             0.6666666666666666,
             "#35b779"
            ],
            [
             0.7777777777777778,
             "#6ece58"
            ],
            [
             0.8888888888888888,
             "#b5de2b"
            ],
            [
             1,
             "#fde725"
            ]
           ]
          },
          "colorway": [
           "#1F77B4",
           "#FF7F0E",
           "#2CA02C",
           "#D62728",
           "#9467BD",
           "#8C564B",
           "#E377C2",
           "#7F7F7F",
           "#BCBD22",
           "#17BECF"
          ],
          "font": {
           "color": "rgb(36,36,36)"
          },
          "geo": {
           "bgcolor": "white",
           "lakecolor": "white",
           "landcolor": "white",
           "showlakes": true,
           "showland": true,
           "subunitcolor": "white"
          },
          "hoverlabel": {
           "align": "left"
          },
          "hovermode": "closest",
          "mapbox": {
           "style": "light"
          },
          "paper_bgcolor": "white",
          "plot_bgcolor": "white",
          "polar": {
           "angularaxis": {
            "gridcolor": "rgb(232,232,232)",
            "linecolor": "rgb(36,36,36)",
            "showgrid": false,
            "showline": true,
            "ticks": "outside"
           },
           "bgcolor": "white",
           "radialaxis": {
            "gridcolor": "rgb(232,232,232)",
            "linecolor": "rgb(36,36,36)",
            "showgrid": false,
            "showline": true,
            "ticks": "outside"
           }
          },
          "scene": {
           "xaxis": {
            "backgroundcolor": "white",
            "gridcolor": "rgb(232,232,232)",
            "gridwidth": 2,
            "linecolor": "rgb(36,36,36)",
            "showbackground": true,
            "showgrid": false,
            "showline": true,
            "ticks": "outside",
            "zeroline": false,
            "zerolinecolor": "rgb(36,36,36)"
           },
           "yaxis": {
            "backgroundcolor": "white",
            "gridcolor": "rgb(232,232,232)",
            "gridwidth": 2,
            "linecolor": "rgb(36,36,36)",
            "showbackground": true,
            "showgrid": false,
            "showline": true,
            "ticks": "outside",
            "zeroline": false,
            "zerolinecolor": "rgb(36,36,36)"
           },
           "zaxis": {
            "backgroundcolor": "white",
            "gridcolor": "rgb(232,232,232)",
            "gridwidth": 2,
            "linecolor": "rgb(36,36,36)",
            "showbackground": true,
            "showgrid": false,
            "showline": true,
            "ticks": "outside",
            "zeroline": false,
            "zerolinecolor": "rgb(36,36,36)"
           }
          },
          "shapedefaults": {
           "fillcolor": "black",
           "line": {
            "width": 0
           },
           "opacity": 0.3
          },
          "ternary": {
           "aaxis": {
            "gridcolor": "rgb(232,232,232)",
            "linecolor": "rgb(36,36,36)",
            "showgrid": false,
            "showline": true,
            "ticks": "outside"
           },
           "baxis": {
            "gridcolor": "rgb(232,232,232)",
            "linecolor": "rgb(36,36,36)",
            "showgrid": false,
            "showline": true,
            "ticks": "outside"
           },
           "bgcolor": "white",
           "caxis": {
            "gridcolor": "rgb(232,232,232)",
            "linecolor": "rgb(36,36,36)",
            "showgrid": false,
            "showline": true,
            "ticks": "outside"
           }
          },
          "title": {
           "x": 0.05
          },
          "xaxis": {
           "automargin": true,
           "gridcolor": "rgb(232,232,232)",
           "linecolor": "rgb(36,36,36)",
           "showgrid": false,
           "showline": true,
           "ticks": "outside",
           "title": {
            "standoff": 15
           },
           "zeroline": false,
           "zerolinecolor": "rgb(36,36,36)"
          },
          "yaxis": {
           "automargin": true,
           "gridcolor": "rgb(232,232,232)",
           "linecolor": "rgb(36,36,36)",
           "showgrid": false,
           "showline": true,
           "ticks": "outside",
           "title": {
            "standoff": 15
           },
           "zeroline": false,
           "zerolinecolor": "rgb(36,36,36)"
          }
         }
        },
        "title": {
         "text": "Examplary Layout"
        },
        "width": 500,
        "xaxis": {
         "dtick": 1,
         "title": {
          "text": "Column #"
         }
        },
        "yaxis": {
         "dtick": 1,
         "title": {
          "text": "Row #"
         }
        }
       }
      },
      "text/html": [
       "<div>                            <div id=\"c69b647a-46e8-4b06-aad7-db30b51a9432\" class=\"plotly-graph-div\" style=\"height:500px; width:500px;\"></div>            <script type=\"text/javascript\">                require([\"plotly\"], function(Plotly) {                    window.PLOTLYENV=window.PLOTLYENV || {};                                    if (document.getElementById(\"c69b647a-46e8-4b06-aad7-db30b51a9432\")) {                    Plotly.newPlot(                        \"c69b647a-46e8-4b06-aad7-db30b51a9432\",                        [{\"colorbar\":{\"title\":{\"text\":\"Plot Location <br>Effects\"}},\"hovertemplate\":\"Col # : %{x}<br>Row # : %{y}<br>Cultivar : %{text}<br>Plot Loc Effect: %{z:.2f}<extra></extra>\",\"text\":[\"Cultivar-9\",\"Cultivar-6\",\"Cultivar-4\",\"Cultivar-3\",\"Cultivar-3\",\"Cultivar-5\",\"Cultivar-1\",\"Cultivar-9\",\"Cultivar-10\",\"Cultivar-3\",\"Cultivar-4\",\"Cultivar-7\",\"Cultivar-8\",\"Cultivar-4\",\"Cultivar-9\",\"Cultivar-8\",\"Cultivar-6\",\"Cultivar-7\",\"Cultivar-8\",\"Cultivar-5\",\"Cultivar-1\",\"Cultivar-5\",\"Cultivar-10\",\"Cultivar-10\",\"Cultivar-7\",\"Cultivar-2\",\"Cultivar-1\",\"Cultivar-2\",\"Cultivar-6\",\"Cultivar-2\"],\"textfont\":{\"size\":10},\"texttemplate\":\"%{text}\",\"x\":[1,2,3,4,5,5,4,3,2,1,1,2,3,4,5,5,4,3,2,1,1,2,3,4,5,5,4,3,2,1],\"y\":[1,1,1,1,1,2,2,2,2,2,3,3,3,3,3,4,4,4,4,4,5,5,5,5,5,6,6,6,6,6],\"z\":[-0.9257115142139068,-0.03161756758669754,-0.22626607745965455,-0.7811906778182783,-0.6839998138100841,-0.6543498639783156,0.3024370041639035,-0.20582148274667234,-0.23404020930273273,-0.4221531473684842,-0.2324281931692901,0.3177882573404981,0.6311229061474312,0.4252868329519618,-0.2918182473087243,-0.2716909532129257,-0.27674451465616434,1.242893768973178,-0.15316622644818423,-0.10477090953822765,-0.19182879251026097,0.17838565359771252,-0.26243865975704805,0.41244016534236316,-0.29817938145114464,-0.6814392840266902,-0.4391366276956964,-0.984108635661222,-0.20440260857304315,-0.37672348609657247],\"type\":\"heatmap\"}],                        {\"template\":{\"data\":{\"histogram2dcontour\":[{\"type\":\"histogram2dcontour\",\"colorbar\":{\"outlinewidth\":1,\"tickcolor\":\"rgb(36,36,36)\",\"ticks\":\"outside\"},\"colorscale\":[[0.0,\"#440154\"],[0.1111111111111111,\"#482878\"],[0.2222222222222222,\"#3e4989\"],[0.3333333333333333,\"#31688e\"],[0.4444444444444444,\"#26828e\"],[0.5555555555555556,\"#1f9e89\"],[0.6666666666666666,\"#35b779\"],[0.7777777777777778,\"#6ece58\"],[0.8888888888888888,\"#b5de2b\"],[1.0,\"#fde725\"]]}],\"choropleth\":[{\"type\":\"choropleth\",\"colorbar\":{\"outlinewidth\":1,\"tickcolor\":\"rgb(36,36,36)\",\"ticks\":\"outside\"}}],\"histogram2d\":[{\"type\":\"histogram2d\",\"colorbar\":{\"outlinewidth\":1,\"tickcolor\":\"rgb(36,36,36)\",\"ticks\":\"outside\"},\"colorscale\":[[0.0,\"#440154\"],[0.1111111111111111,\"#482878\"],[0.2222222222222222,\"#3e4989\"],[0.3333333333333333,\"#31688e\"],[0.4444444444444444,\"#26828e\"],[0.5555555555555556,\"#1f9e89\"],[0.6666666666666666,\"#35b779\"],[0.7777777777777778,\"#6ece58\"],[0.8888888888888888,\"#b5de2b\"],[1.0,\"#fde725\"]]}],\"heatmap\":[{\"type\":\"heatmap\",\"colorbar\":{\"outlinewidth\":1,\"tickcolor\":\"rgb(36,36,36)\",\"ticks\":\"outside\"},\"colorscale\":[[0.0,\"#440154\"],[0.1111111111111111,\"#482878\"],[0.2222222222222222,\"#3e4989\"],[0.3333333333333333,\"#31688e\"],[0.4444444444444444,\"#26828e\"],[0.5555555555555556,\"#1f9e89\"],[0.6666666666666666,\"#35b779\"],[0.7777777777777778,\"#6ece58\"],[0.8888888888888888,\"#b5de2b\"],[1.0,\"#fde725\"]]}],\"heatmapgl\":[{\"type\":\"heatmapgl\",\"colorbar\":{\"outlinewidth\":1,\"tickcolor\":\"rgb(36,36,36)\",\"ticks\":\"outside\"},\"colorscale\":[[0.0,\"#440154\"],[0.1111111111111111,\"#482878\"],[0.2222222222222222,\"#3e4989\"],[0.3333333333333333,\"#31688e\"],[0.4444444444444444,\"#26828e\"],[0.5555555555555556,\"#1f9e89\"],[0.6666666666666666,\"#35b779\"],[0.7777777777777778,\"#6ece58\"],[0.8888888888888888,\"#b5de2b\"],[1.0,\"#fde725\"]]}],\"contourcarpet\":[{\"type\":\"contourcarpet\",\"colorbar\":{\"outlinewidth\":1,\"tickcolor\":\"rgb(36,36,36)\",\"ticks\":\"outside\"}}],\"contour\":[{\"type\":\"contour\",\"colorbar\":{\"outlinewidth\":1,\"tickcolor\":\"rgb(36,36,36)\",\"ticks\":\"outside\"},\"colorscale\":[[0.0,\"#440154\"],[0.1111111111111111,\"#482878\"],[0.2222222222222222,\"#3e4989\"],[0.3333333333333333,\"#31688e\"],[0.4444444444444444,\"#26828e\"],[0.5555555555555556,\"#1f9e89\"],[0.6666666666666666,\"#35b779\"],[0.7777777777777778,\"#6ece58\"],[0.8888888888888888,\"#b5de2b\"],[1.0,\"#fde725\"]]}],\"surface\":[{\"type\":\"surface\",\"colorbar\":{\"outlinewidth\":1,\"tickcolor\":\"rgb(36,36,36)\",\"ticks\":\"outside\"},\"colorscale\":[[0.0,\"#440154\"],[0.1111111111111111,\"#482878\"],[0.2222222222222222,\"#3e4989\"],[0.3333333333333333,\"#31688e\"],[0.4444444444444444,\"#26828e\"],[0.5555555555555556,\"#1f9e89\"],[0.6666666666666666,\"#35b779\"],[0.7777777777777778,\"#6ece58\"],[0.8888888888888888,\"#b5de2b\"],[1.0,\"#fde725\"]]}],\"mesh3d\":[{\"type\":\"mesh3d\",\"colorbar\":{\"outlinewidth\":1,\"tickcolor\":\"rgb(36,36,36)\",\"ticks\":\"outside\"}}],\"scatter\":[{\"fillpattern\":{\"fillmode\":\"overlay\",\"size\":10,\"solidity\":0.2},\"type\":\"scatter\"}],\"parcoords\":[{\"type\":\"parcoords\",\"line\":{\"colorbar\":{\"outlinewidth\":1,\"tickcolor\":\"rgb(36,36,36)\",\"ticks\":\"outside\"}}}],\"scatterpolargl\":[{\"type\":\"scatterpolargl\",\"marker\":{\"colorbar\":{\"outlinewidth\":1,\"tickcolor\":\"rgb(36,36,36)\",\"ticks\":\"outside\"}}}],\"bar\":[{\"error_x\":{\"color\":\"rgb(36,36,36)\"},\"error_y\":{\"color\":\"rgb(36,36,36)\"},\"marker\":{\"line\":{\"color\":\"white\",\"width\":0.5},\"pattern\":{\"fillmode\":\"overlay\",\"size\":10,\"solidity\":0.2}},\"type\":\"bar\"}],\"scattergeo\":[{\"type\":\"scattergeo\",\"marker\":{\"colorbar\":{\"outlinewidth\":1,\"tickcolor\":\"rgb(36,36,36)\",\"ticks\":\"outside\"}}}],\"scatterpolar\":[{\"type\":\"scatterpolar\",\"marker\":{\"colorbar\":{\"outlinewidth\":1,\"tickcolor\":\"rgb(36,36,36)\",\"ticks\":\"outside\"}}}],\"histogram\":[{\"marker\":{\"line\":{\"color\":\"white\",\"width\":0.6}},\"type\":\"histogram\"}],\"scattergl\":[{\"type\":\"scattergl\",\"marker\":{\"colorbar\":{\"outlinewidth\":1,\"tickcolor\":\"rgb(36,36,36)\",\"ticks\":\"outside\"}}}],\"scatter3d\":[{\"type\":\"scatter3d\",\"line\":{\"colorbar\":{\"outlinewidth\":1,\"tickcolor\":\"rgb(36,36,36)\",\"ticks\":\"outside\"}},\"marker\":{\"colorbar\":{\"outlinewidth\":1,\"tickcolor\":\"rgb(36,36,36)\",\"ticks\":\"outside\"}}}],\"scattermapbox\":[{\"type\":\"scattermapbox\",\"marker\":{\"colorbar\":{\"outlinewidth\":1,\"tickcolor\":\"rgb(36,36,36)\",\"ticks\":\"outside\"}}}],\"scatterternary\":[{\"type\":\"scatterternary\",\"marker\":{\"colorbar\":{\"outlinewidth\":1,\"tickcolor\":\"rgb(36,36,36)\",\"ticks\":\"outside\"}}}],\"scattercarpet\":[{\"type\":\"scattercarpet\",\"marker\":{\"colorbar\":{\"outlinewidth\":1,\"tickcolor\":\"rgb(36,36,36)\",\"ticks\":\"outside\"}}}],\"carpet\":[{\"aaxis\":{\"endlinecolor\":\"rgb(36,36,36)\",\"gridcolor\":\"white\",\"linecolor\":\"white\",\"minorgridcolor\":\"white\",\"startlinecolor\":\"rgb(36,36,36)\"},\"baxis\":{\"endlinecolor\":\"rgb(36,36,36)\",\"gridcolor\":\"white\",\"linecolor\":\"white\",\"minorgridcolor\":\"white\",\"startlinecolor\":\"rgb(36,36,36)\"},\"type\":\"carpet\"}],\"table\":[{\"cells\":{\"fill\":{\"color\":\"rgb(237,237,237)\"},\"line\":{\"color\":\"white\"}},\"header\":{\"fill\":{\"color\":\"rgb(217,217,217)\"},\"line\":{\"color\":\"white\"}},\"type\":\"table\"}],\"barpolar\":[{\"marker\":{\"line\":{\"color\":\"white\",\"width\":0.5},\"pattern\":{\"fillmode\":\"overlay\",\"size\":10,\"solidity\":0.2}},\"type\":\"barpolar\"}],\"pie\":[{\"automargin\":true,\"type\":\"pie\"}]},\"layout\":{\"autotypenumbers\":\"strict\",\"colorway\":[\"#1F77B4\",\"#FF7F0E\",\"#2CA02C\",\"#D62728\",\"#9467BD\",\"#8C564B\",\"#E377C2\",\"#7F7F7F\",\"#BCBD22\",\"#17BECF\"],\"font\":{\"color\":\"rgb(36,36,36)\"},\"hovermode\":\"closest\",\"hoverlabel\":{\"align\":\"left\"},\"paper_bgcolor\":\"white\",\"plot_bgcolor\":\"white\",\"polar\":{\"bgcolor\":\"white\",\"angularaxis\":{\"gridcolor\":\"rgb(232,232,232)\",\"linecolor\":\"rgb(36,36,36)\",\"showgrid\":false,\"showline\":true,\"ticks\":\"outside\"},\"radialaxis\":{\"gridcolor\":\"rgb(232,232,232)\",\"linecolor\":\"rgb(36,36,36)\",\"showgrid\":false,\"showline\":true,\"ticks\":\"outside\"}},\"ternary\":{\"bgcolor\":\"white\",\"aaxis\":{\"gridcolor\":\"rgb(232,232,232)\",\"linecolor\":\"rgb(36,36,36)\",\"showgrid\":false,\"showline\":true,\"ticks\":\"outside\"},\"baxis\":{\"gridcolor\":\"rgb(232,232,232)\",\"linecolor\":\"rgb(36,36,36)\",\"showgrid\":false,\"showline\":true,\"ticks\":\"outside\"},\"caxis\":{\"gridcolor\":\"rgb(232,232,232)\",\"linecolor\":\"rgb(36,36,36)\",\"showgrid\":false,\"showline\":true,\"ticks\":\"outside\"}},\"coloraxis\":{\"colorbar\":{\"outlinewidth\":1,\"tickcolor\":\"rgb(36,36,36)\",\"ticks\":\"outside\"}},\"colorscale\":{\"sequential\":[[0.0,\"#440154\"],[0.1111111111111111,\"#482878\"],[0.2222222222222222,\"#3e4989\"],[0.3333333333333333,\"#31688e\"],[0.4444444444444444,\"#26828e\"],[0.5555555555555556,\"#1f9e89\"],[0.6666666666666666,\"#35b779\"],[0.7777777777777778,\"#6ece58\"],[0.8888888888888888,\"#b5de2b\"],[1.0,\"#fde725\"]],\"sequentialminus\":[[0.0,\"#440154\"],[0.1111111111111111,\"#482878\"],[0.2222222222222222,\"#3e4989\"],[0.3333333333333333,\"#31688e\"],[0.4444444444444444,\"#26828e\"],[0.5555555555555556,\"#1f9e89\"],[0.6666666666666666,\"#35b779\"],[0.7777777777777778,\"#6ece58\"],[0.8888888888888888,\"#b5de2b\"],[1.0,\"#fde725\"]],\"diverging\":[[0.0,\"rgb(103,0,31)\"],[0.1,\"rgb(178,24,43)\"],[0.2,\"rgb(214,96,77)\"],[0.3,\"rgb(244,165,130)\"],[0.4,\"rgb(253,219,199)\"],[0.5,\"rgb(247,247,247)\"],[0.6,\"rgb(209,229,240)\"],[0.7,\"rgb(146,197,222)\"],[0.8,\"rgb(67,147,195)\"],[0.9,\"rgb(33,102,172)\"],[1.0,\"rgb(5,48,97)\"]]},\"xaxis\":{\"gridcolor\":\"rgb(232,232,232)\",\"linecolor\":\"rgb(36,36,36)\",\"showgrid\":false,\"showline\":true,\"ticks\":\"outside\",\"title\":{\"standoff\":15},\"zerolinecolor\":\"rgb(36,36,36)\",\"automargin\":true,\"zeroline\":false},\"yaxis\":{\"gridcolor\":\"rgb(232,232,232)\",\"linecolor\":\"rgb(36,36,36)\",\"showgrid\":false,\"showline\":true,\"ticks\":\"outside\",\"title\":{\"standoff\":15},\"zerolinecolor\":\"rgb(36,36,36)\",\"automargin\":true,\"zeroline\":false},\"scene\":{\"xaxis\":{\"backgroundcolor\":\"white\",\"gridcolor\":\"rgb(232,232,232)\",\"linecolor\":\"rgb(36,36,36)\",\"showbackground\":true,\"showgrid\":false,\"showline\":true,\"ticks\":\"outside\",\"zerolinecolor\":\"rgb(36,36,36)\",\"gridwidth\":2,\"zeroline\":false},\"yaxis\":{\"backgroundcolor\":\"white\",\"gridcolor\":\"rgb(232,232,232)\",\"linecolor\":\"rgb(36,36,36)\",\"showbackground\":true,\"showgrid\":false,\"showline\":true,\"ticks\":\"outside\",\"zerolinecolor\":\"rgb(36,36,36)\",\"gridwidth\":2,\"zeroline\":false},\"zaxis\":{\"backgroundcolor\":\"white\",\"gridcolor\":\"rgb(232,232,232)\",\"linecolor\":\"rgb(36,36,36)\",\"showbackground\":true,\"showgrid\":false,\"showline\":true,\"ticks\":\"outside\",\"zerolinecolor\":\"rgb(36,36,36)\",\"gridwidth\":2,\"zeroline\":false}},\"shapedefaults\":{\"fillcolor\":\"black\",\"line\":{\"width\":0},\"opacity\":0.3},\"annotationdefaults\":{\"arrowhead\":0,\"arrowwidth\":1},\"geo\":{\"bgcolor\":\"white\",\"landcolor\":\"white\",\"subunitcolor\":\"white\",\"showland\":true,\"showlakes\":true,\"lakecolor\":\"white\"},\"title\":{\"x\":0.05},\"mapbox\":{\"style\":\"light\"}}},\"xaxis\":{\"title\":{\"text\":\"Column #\"},\"dtick\":1},\"yaxis\":{\"title\":{\"text\":\"Row #\"},\"dtick\":1},\"title\":{\"text\":\"Examplary Layout\"},\"autosize\":false,\"width\":500,\"height\":500},                        {\"responsive\": true}                    ).then(function(){\n",
       "                            \n",
       "var gd = document.getElementById('c69b647a-46e8-4b06-aad7-db30b51a9432');\n",
       "var x = new MutationObserver(function (mutations, observer) {{\n",
       "        var display = window.getComputedStyle(gd).display;\n",
       "        if (!display || display === 'none') {{\n",
       "            console.log([gd, 'removed!']);\n",
       "            Plotly.purge(gd);\n",
       "            observer.disconnect();\n",
       "        }}\n",
       "}});\n",
       "\n",
       "// Listen for the removal of the full notebook cells\n",
       "var notebookContainer = gd.closest('#notebook-container');\n",
       "if (notebookContainer) {{\n",
       "    x.observe(notebookContainer, {childList: true});\n",
       "}}\n",
       "\n",
       "// Listen for the clearing of the current output cell\n",
       "var outputEl = gd.closest('.output');\n",
       "if (outputEl) {{\n",
       "    x.observe(outputEl, {childList: true});\n",
       "}}\n",
       "\n",
       "                        })                };                });            </script>        </div>"
      ]
     },
     "metadata": {},
     "output_type": "display_data"
    }
   ],
   "source": [
    "fig = go.Figure()\n",
    "fig.add_trace(go.Heatmap(z=layout.PLOC_EFF, y=layout.ROW, x=layout.COL, \n",
    "                         text=['Cultivar-'+ str(i) for i in layout.ENTRY_CODE],\n",
    "                         texttemplate=\"%{text}\", textfont={\"size\": 10},\n",
    "                         hovertemplate = 'Col # : %{x}<br>' +\n",
    "                                         'Row # : %{y}<br>' + \n",
    "                                         'Cultivar : %{text}<br>'+\n",
    "                                         'Plot Loc Effect: %{z:.2f}<extra></extra>',\n",
    "                         colorbar=dict(title='Plot Location <br>Effects'),      \n",
    "                        ))\n",
    "fig.update_layout(title='Examplary Layout', \n",
    "                  xaxis = dict(title='Column #', dtick=1),\n",
    "                  yaxis = dict(title='Row #', dtick=1), \n",
    "                  autosize=False, width=500, height=500,\n",
    "                 )\n",
    "fig.show()"
   ]
  },
  {
   "cell_type": "code",
   "execution_count": 27,
   "id": "fbc69af0",
   "metadata": {},
   "outputs": [],
   "source": [
    "# simulate plot location effect\n",
    "dist_matrix = utils.calc_dist_matrix(layout, index_col='PLOC_CODE')\n",
    "kernel = utils.distmatrix_to_expquadkernel(dist_matrix, alpha, inv_rho, sigma_e)\n",
    "plot_effect = pd.DataFrame(np.random.multivariate_normal(layout.PLOC_EFF, kernel, T*K), \n",
    "                           columns=list(range(1,3*J+1)))"
   ]
  },
  {
   "cell_type": "code",
   "execution_count": 28,
   "id": "30100a12",
   "metadata": {},
   "outputs": [],
   "source": [
    "# entry effect\n",
    "entry_effect = pd.DataFrame({'ENTRY_CODE': list(range(1, J+1)), \n",
    "                             'ENTRY_EFF': np.random.normal(0, sigma, J)})    \n",
    "\n",
    "# rating severity \n",
    "rating_event_code = np.random.choice(list(range(1,R+1)), T*K)\n",
    "beta = np.linspace(-0.8,0.8,R)"
   ]
  },
  {
   "cell_type": "code",
   "execution_count": 29,
   "id": "a008f77f",
   "metadata": {},
   "outputs": [],
   "source": [
    "betas = pd.DataFrame({'RATING_EVENT_CODE': rating_event_code, \n",
    "                      'BETA': [beta[i-1] for i in rating_event_code]  })"
   ]
  },
  {
   "cell_type": "code",
   "execution_count": 30,
   "id": "5b073237",
   "metadata": {},
   "outputs": [],
   "source": [
    "thetas = pd.concat([plot_effect, betas], axis=1) #year_month_effect, \n",
    "thetas = thetas.melt(id_vars=['RATING_EVENT_CODE', 'BETA'], \n",
    "                     var_name='PLOC_CODE', value_name='PLOC_EFF')\n",
    "thetas = pd.merge(thetas, layout[['ENTRY_CODE', 'PLOC_CODE']], on='PLOC_CODE')\n",
    "thetas = pd.merge(thetas, entry_effect, on='ENTRY_CODE')\n",
    "thetas = thetas.assign(THETA=thetas.ENTRY_EFF+thetas.PLOC_EFF)\n",
    "thetas['PLOC_CODE'] = thetas['PLOC_CODE'].astype(int)"
   ]
  },
  {
   "cell_type": "code",
   "execution_count": 31,
   "id": "9863504f",
   "metadata": {},
   "outputs": [
    {
     "data": {
      "text/html": [
       "<div>\n",
       "<style scoped>\n",
       "    .dataframe tbody tr th:only-of-type {\n",
       "        vertical-align: middle;\n",
       "    }\n",
       "\n",
       "    .dataframe tbody tr th {\n",
       "        vertical-align: top;\n",
       "    }\n",
       "\n",
       "    .dataframe thead th {\n",
       "        text-align: right;\n",
       "    }\n",
       "</style>\n",
       "<table border=\"1\" class=\"dataframe\">\n",
       "  <thead>\n",
       "    <tr style=\"text-align: right;\">\n",
       "      <th></th>\n",
       "      <th>RATING_EVENT_CODE</th>\n",
       "      <th>BETA</th>\n",
       "      <th>PLOC_CODE</th>\n",
       "      <th>PLOC_EFF</th>\n",
       "      <th>ENTRY_CODE</th>\n",
       "      <th>ENTRY_EFF</th>\n",
       "      <th>THETA</th>\n",
       "      <th>QUALITY</th>\n",
       "    </tr>\n",
       "  </thead>\n",
       "  <tbody>\n",
       "    <tr>\n",
       "      <th>0</th>\n",
       "      <td>2</td>\n",
       "      <td>-0.4</td>\n",
       "      <td>1</td>\n",
       "      <td>-0.948406</td>\n",
       "      <td>9</td>\n",
       "      <td>-1.181069</td>\n",
       "      <td>-2.129475</td>\n",
       "      <td>2</td>\n",
       "    </tr>\n",
       "    <tr>\n",
       "      <th>1</th>\n",
       "      <td>1</td>\n",
       "      <td>-0.8</td>\n",
       "      <td>1</td>\n",
       "      <td>-0.780259</td>\n",
       "      <td>9</td>\n",
       "      <td>-1.181069</td>\n",
       "      <td>-1.961328</td>\n",
       "      <td>3</td>\n",
       "    </tr>\n",
       "    <tr>\n",
       "      <th>2</th>\n",
       "      <td>3</td>\n",
       "      <td>0.0</td>\n",
       "      <td>1</td>\n",
       "      <td>-0.482946</td>\n",
       "      <td>9</td>\n",
       "      <td>-1.181069</td>\n",
       "      <td>-1.664014</td>\n",
       "      <td>2</td>\n",
       "    </tr>\n",
       "    <tr>\n",
       "      <th>3</th>\n",
       "      <td>5</td>\n",
       "      <td>0.8</td>\n",
       "      <td>1</td>\n",
       "      <td>-0.932907</td>\n",
       "      <td>9</td>\n",
       "      <td>-1.181069</td>\n",
       "      <td>-2.113975</td>\n",
       "      <td>1</td>\n",
       "    </tr>\n",
       "    <tr>\n",
       "      <th>4</th>\n",
       "      <td>5</td>\n",
       "      <td>0.8</td>\n",
       "      <td>1</td>\n",
       "      <td>-1.072637</td>\n",
       "      <td>9</td>\n",
       "      <td>-1.181069</td>\n",
       "      <td>-2.253705</td>\n",
       "      <td>1</td>\n",
       "    </tr>\n",
       "  </tbody>\n",
       "</table>\n",
       "</div>"
      ],
      "text/plain": [
       "   RATING_EVENT_CODE  BETA  PLOC_CODE  PLOC_EFF  ENTRY_CODE  ENTRY_EFF  \\\n",
       "0                  2  -0.4          1 -0.948406           9  -1.181069   \n",
       "1                  1  -0.8          1 -0.780259           9  -1.181069   \n",
       "2                  3   0.0          1 -0.482946           9  -1.181069   \n",
       "3                  5   0.8          1 -0.932907           9  -1.181069   \n",
       "4                  5   0.8          1 -1.072637           9  -1.181069   \n",
       "\n",
       "      THETA  QUALITY  \n",
       "0 -2.129475        2  \n",
       "1 -1.961328        3  \n",
       "2 -1.664014        2  \n",
       "3 -2.113975        1  \n",
       "4 -2.253705        1  "
      ]
     },
     "execution_count": 31,
     "metadata": {},
     "output_type": "execute_result"
    }
   ],
   "source": [
    "# category threshold \n",
    "taus = np.linspace(-2,2,M-1)\n",
    "# simulate rating scores\n",
    "thetas['QUALITY'] = thetas.apply(lambda x: util.simulate_rating_scores(x['THETA'], x['BETA'], taus), axis=1)\n",
    "thetas.head()"
   ]
  },
  {
   "cell_type": "code",
   "execution_count": 43,
   "id": "55b77ded",
   "metadata": {},
   "outputs": [
    {
     "data": {
      "text/plain": [
       "array([-2.        , -1.42857143, -0.85714286, -0.28571429,  0.28571429,\n",
       "        0.85714286,  1.42857143,  2.        ])"
      ]
     },
     "execution_count": 43,
     "metadata": {},
     "output_type": "execute_result"
    }
   ],
   "source": [
    "taus"
   ]
  },
  {
   "cell_type": "code",
   "execution_count": 32,
   "id": "edae3d2a",
   "metadata": {},
   "outputs": [
    {
     "data": {
      "application/vnd.plotly.v1+json": {
       "config": {
        "plotlyServerURL": "https://plot.ly"
       },
       "data": [
        {
         "alignmentgroup": "True",
         "bingroup": "x",
         "hovertemplate": "x=%{x}<br>count=%{y}<extra></extra>",
         "legendgroup": "",
         "marker": {
          "color": "#1F77B4",
          "pattern": {
           "shape": ""
          }
         },
         "name": "",
         "offsetgroup": "",
         "orientation": "v",
         "showlegend": false,
         "type": "histogram",
         "x": [
          2,
          3,
          2,
          1,
          1,
          1,
          2,
          3,
          2,
          1,
          1,
          1,
          1,
          3,
          3,
          3,
          3,
          2,
          3,
          3,
          2,
          4,
          2,
          2,
          1,
          3,
          3,
          2,
          3,
          2,
          2,
          1,
          4,
          3,
          6,
          1,
          1,
          3,
          2,
          2,
          2,
          3,
          1,
          5,
          1,
          1,
          1,
          3,
          1,
          1,
          1,
          1,
          1,
          3,
          2,
          1,
          3,
          2,
          1,
          4,
          4,
          5,
          3,
          1,
          1,
          3,
          2,
          3,
          4,
          3,
          3,
          5,
          5,
          1,
          3,
          3,
          1,
          1,
          2,
          3,
          4,
          4,
          7,
          3,
          2,
          3,
          4,
          3,
          6,
          3,
          2,
          2,
          4,
          4,
          4,
          2,
          4,
          2,
          2,
          2,
          5,
          4,
          5,
          4,
          4,
          3,
          1,
          6,
          3,
          2,
          2,
          2,
          3,
          1,
          4,
          4,
          5,
          5,
          2,
          4,
          1,
          4,
          3,
          2,
          1,
          2,
          1,
          2,
          3,
          1,
          4,
          1,
          6,
          3,
          5,
          3,
          4,
          1,
          2,
          4,
          4,
          2,
          3,
          3,
          1,
          6,
          3,
          1,
          6,
          4,
          2,
          1,
          1,
          3,
          3,
          3,
          3,
          2,
          3,
          3,
          4,
          4,
          6,
          3,
          5,
          3,
          1,
          5,
          2,
          4,
          1,
          4,
          3,
          2,
          2,
          3,
          4,
          5,
          1,
          4,
          8,
          9,
          8,
          5,
          4,
          4,
          5,
          6,
          7,
          4,
          7,
          7,
          9,
          4,
          9,
          5,
          6,
          8,
          5,
          9,
          8,
          8,
          7,
          7,
          5,
          7,
          8,
          9,
          8,
          5,
          6,
          4,
          7,
          8,
          7,
          5,
          7,
          6,
          7,
          6,
          6,
          7,
          9,
          8,
          8,
          5,
          6,
          8,
          9,
          7,
          5,
          5,
          5,
          7,
          9,
          6,
          4,
          9,
          6,
          8,
          6,
          7,
          4,
          4,
          6,
          3,
          4,
          7,
          4,
          7,
          8,
          6,
          7,
          5,
          8,
          5,
          9,
          7,
          6,
          6,
          7,
          5,
          9,
          7,
          8,
          8,
          8,
          5,
          8,
          6,
          5,
          4,
          6,
          8,
          4,
          5,
          7,
          7,
          6,
          7,
          6,
          5,
          8,
          7,
          9,
          6,
          6,
          8,
          8,
          6,
          5,
          7,
          3,
          4,
          7,
          3,
          8,
          8,
          5,
          8,
          7,
          8,
          8,
          4,
          1,
          6,
          5,
          8,
          6,
          2,
          7,
          5,
          7,
          5,
          9,
          5,
          5,
          7,
          5,
          6,
          7,
          4,
          5,
          8,
          6,
          9,
          7,
          7,
          8,
          5,
          8,
          4,
          6,
          5,
          7,
          6,
          4,
          7,
          6,
          7,
          6,
          7,
          8,
          4,
          8,
          6,
          3,
          6,
          7,
          8,
          6,
          8,
          6,
          4,
          7,
          5,
          9,
          8,
          4,
          7,
          6,
          5,
          5,
          3,
          2,
          5,
          3,
          5,
          4,
          7,
          6,
          7,
          7,
          4,
          6,
          3,
          8,
          8,
          6,
          5,
          6,
          5,
          6,
          5,
          6,
          6,
          5,
          7,
          8,
          6,
          7,
          5,
          5,
          6,
          7,
          4,
          7,
          6,
          5,
          5,
          5,
          3,
          8,
          7,
          9,
          4,
          2,
          6,
          8,
          3,
          3,
          7,
          4,
          3,
          2,
          4,
          5,
          3,
          5,
          6,
          7,
          6,
          7,
          2,
          3,
          6,
          3,
          7,
          6,
          2,
          3,
          6,
          5,
          4,
          9,
          2,
          4,
          7,
          3,
          8,
          5,
          4,
          3,
          6,
          5,
          7,
          7,
          3,
          7,
          4,
          5,
          3,
          6,
          6,
          6,
          2,
          5,
          7,
          3,
          8,
          6,
          6,
          8,
          8,
          7,
          5,
          4,
          9,
          9,
          8,
          3,
          7,
          6,
          6,
          4,
          7,
          6,
          7,
          3,
          6,
          9,
          7,
          8,
          3,
          5,
          6,
          6,
          8,
          4,
          5,
          9,
          5,
          9,
          5,
          9,
          4,
          8,
          6,
          4,
          7,
          7,
          7,
          8,
          8,
          4,
          6,
          8,
          8,
          9,
          5,
          6,
          4,
          5,
          8,
          9,
          2,
          6,
          6,
          3,
          7,
          6,
          9,
          8,
          5,
          5,
          7,
          4,
          9,
          9,
          5,
          6,
          8,
          6,
          5,
          6,
          7,
          7,
          8,
          8,
          8,
          3,
          7,
          2,
          2,
          2,
          3,
          3,
          5,
          3,
          5,
          3,
          2,
          4,
          3,
          6,
          2,
          3,
          2,
          2,
          4,
          3,
          2,
          5,
          4,
          4,
          4,
          4,
          2,
          5,
          4,
          2,
          3,
          4,
          2,
          5,
          1,
          5,
          4,
          1,
          5,
          5,
          4,
          7,
          1,
          6,
          4,
          1,
          4,
          4,
          1,
          3,
          2,
          2,
          2,
          4,
          1,
          5,
          4,
          3,
          5,
          6,
          5,
          5,
          5,
          1,
          3,
          1,
          1,
          1,
          3,
          5,
          1,
          7,
          3,
          7,
          3,
          4,
          6,
          2,
          4,
          4,
          4,
          4,
          4,
          4,
          6,
          5,
          6,
          1,
          3,
          3,
          3,
          6,
          4,
          7,
          4,
          3,
          1,
          3,
          2,
          5,
          4,
          5,
          2,
          2,
          3,
          1,
          3,
          2,
          4,
          3,
          4,
          1,
          2,
          4,
          3,
          6,
          5,
          2,
          4,
          3,
          6,
          7,
          3,
          3,
          4,
          2,
          5,
          3,
          4,
          6,
          4,
          5,
          2,
          5,
          4,
          7,
          3,
          5,
          5,
          7,
          6,
          5,
          6,
          3,
          6,
          7,
          5,
          5,
          4,
          5,
          3,
          7,
          6,
          6,
          2,
          3,
          3,
          2,
          3,
          3,
          2,
          4,
          3,
          6,
          3,
          1,
          5,
          7,
          4,
          5,
          5,
          3,
          5,
          2,
          5,
          6,
          4,
          4,
          3,
          5,
          7,
          2,
          1,
          4,
          2,
          3,
          4,
          1,
          3,
          7,
          2,
          6,
          3,
          6,
          5,
          2,
          5,
          1,
          6,
          4,
          4,
          5,
          6,
          3,
          6,
          5,
          5,
          6,
          2,
          5,
          3,
          5,
          4,
          4,
          4,
          2,
          7,
          3,
          5,
          6,
          4,
          4,
          7,
          6,
          5,
          1,
          5,
          5,
          2,
          4,
          4,
          5,
          5,
          2,
          2,
          5,
          5,
          4,
          5,
          4,
          6,
          4,
          1,
          6,
          3,
          3,
          6,
          3,
          4,
          5,
          3,
          6,
          4,
          4,
          5,
          5,
          5,
          2,
          5,
          7,
          6,
          7,
          5,
          2,
          6,
          6,
          3,
          7,
          5,
          4,
          2,
          3,
          7,
          6,
          3,
          8,
          3,
          2,
          3,
          9,
          4,
          5,
          7,
          5,
          6,
          5,
          5,
          6,
          4,
          3,
          4,
          5,
          3,
          2,
          4,
          5,
          4,
          3,
          8,
          7,
          8,
          4,
          3,
          5,
          7,
          5,
          7,
          4,
          5,
          7,
          4,
          7,
          5,
          7,
          3,
          6,
          8,
          4,
          6,
          3,
          6,
          6,
          8,
          5,
          5,
          5,
          9,
          6,
          4,
          7,
          5,
          6,
          7,
          7,
          3,
          4,
          3,
          5,
          8,
          4,
          5,
          6,
          4,
          8,
          6,
          3,
          9,
          6,
          4,
          5,
          7,
          6,
          4,
          4,
          3,
          8,
          6,
          4,
          7,
          5,
          6,
          6,
          5,
          4,
          6,
          7,
          6,
          6,
          7,
          7,
          6,
          9,
          2,
          9,
          5,
          5,
          7,
          4,
          9,
          6,
          7,
          8,
          8,
          8,
          7,
          6,
          9,
          9,
          7,
          3,
          6,
          7,
          6,
          9,
          8,
          6,
          8,
          3,
          7,
          5,
          7,
          7,
          7,
          8,
          7,
          5,
          9,
          8,
          4,
          7,
          7,
          5,
          4,
          4,
          6,
          7,
          7,
          3,
          8,
          6,
          6,
          6,
          5,
          5,
          4,
          3,
          7,
          5,
          7,
          7,
          8,
          6,
          3,
          7,
          6,
          6,
          3,
          4,
          8,
          6,
          6,
          7,
          6,
          4,
          8,
          8,
          8,
          8,
          7,
          4,
          3,
          8,
          6,
          8,
          5,
          5,
          5,
          6,
          7,
          6,
          6,
          7,
          6,
          7,
          5,
          2,
          7,
          7,
          8,
          4,
          6,
          4,
          5,
          6,
          4,
          7,
          8,
          5,
          5,
          6,
          8,
          6,
          5,
          2,
          8,
          5,
          7,
          4,
          4,
          5,
          4,
          9,
          4,
          5,
          4,
          5,
          5,
          5,
          5,
          6,
          7,
          5,
          5,
          5,
          8,
          4,
          9,
          8,
          6,
          6,
          6,
          4,
          6,
          6,
          2,
          4,
          6,
          5,
          6,
          4,
          4,
          6,
          6,
          6,
          5,
          5,
          7,
          6,
          5,
          6,
          5,
          5,
          4,
          5,
          5,
          7,
          7,
          5,
          6,
          6,
          8,
          6,
          5,
          4,
          6,
          8,
          6,
          5,
          7,
          8,
          3,
          8,
          5,
          8,
          5,
          4,
          7,
          5,
          7,
          7,
          7,
          7,
          8,
          7,
          7,
          9,
          6,
          7,
          7,
          6,
          5,
          7,
          7,
          8,
          2,
          5,
          6,
          4,
          8,
          7,
          4,
          9,
          6,
          6,
          6,
          5,
          8,
          5,
          5,
          7,
          7,
          8,
          5,
          5,
          5,
          7,
          7,
          4,
          8,
          6,
          9,
          6,
          7,
          2,
          4,
          4,
          6,
          5,
          8,
          6,
          6,
          9,
          4,
          8,
          7,
          4,
          5,
          5,
          6,
          5,
          6,
          7,
          9,
          5,
          9,
          6,
          9,
          7,
          6,
          9,
          5,
          7,
          7,
          7,
          6,
          7,
          5,
          6,
          9,
          5,
          5,
          7,
          7,
          9,
          5,
          8,
          7,
          7,
          6,
          5,
          6,
          5,
          4,
          4,
          7,
          6,
          7,
          4,
          6,
          8,
          8,
          7,
          4,
          6,
          6,
          4,
          9,
          6,
          9,
          8,
          7,
          7,
          4,
          8,
          6,
          6,
          6,
          7,
          6,
          6,
          6,
          7,
          9,
          4,
          8,
          6,
          7,
          9,
          9,
          6,
          6,
          6,
          4,
          7,
          5,
          7,
          8,
          6,
          5,
          7,
          7,
          8,
          8,
          9,
          9,
          5,
          8,
          8,
          7,
          7,
          9,
          8,
          8,
          4,
          7,
          8,
          9,
          4,
          6,
          7,
          6,
          5,
          1,
          5,
          3,
          4,
          6,
          3,
          2,
          6,
          5,
          5,
          3,
          8,
          4,
          3,
          6,
          6,
          7,
          5,
          8,
          5,
          6,
          3,
          8,
          5,
          6,
          9,
          2,
          5,
          5,
          5,
          5,
          8,
          4,
          5,
          3,
          5,
          7,
          5,
          5,
          7,
          4,
          7,
          4,
          5,
          6,
          6,
          5,
          3,
          6,
          6,
          2,
          5,
          2,
          8,
          7,
          3,
          5,
          7,
          7,
          6,
          4,
          5,
          3,
          5,
          7,
          7,
          6,
          8,
          6,
          8,
          4,
          6,
          4,
          7,
          6,
          6,
          6,
          8,
          6,
          8,
          6,
          4,
          8,
          6,
          8,
          9,
          4,
          7,
          4,
          8,
          6,
          6,
          3,
          7,
          6,
          6,
          6,
          8,
          4,
          7,
          8,
          9,
          3,
          6,
          8,
          8,
          5,
          4,
          7,
          6,
          5,
          6,
          7,
          8,
          7,
          4,
          7,
          6,
          5,
          2,
          3,
          1,
          3,
          2,
          4,
          6,
          2,
          3,
          4,
          3,
          4,
          7,
          4,
          3,
          5,
          1,
          7,
          3,
          5,
          5,
          5,
          6,
          5,
          3,
          8,
          5,
          2,
          3,
          2,
          4,
          6,
          6,
          4,
          3,
          1,
          2,
          4,
          3,
          5,
          5,
          4,
          7,
          4,
          3,
          4,
          4,
          2,
          5,
          6,
          2,
          3,
          3,
          1,
          5,
          7,
          2,
          4,
          4,
          6,
          7,
          2,
          2,
          4,
          4,
          5,
          5,
          3,
          6,
          6,
          7,
          5,
          6,
          3,
          6,
          7,
          5,
          8,
          4,
          7,
          5,
          8,
          5,
          5,
          6,
          8,
          9,
          6,
          6,
          2,
          3,
          6,
          6,
          5,
          3,
          4,
          6,
          3,
          4,
          6,
          5,
          5,
          7,
          7,
          5,
          6,
          8,
          7,
          8,
          6,
          4,
          5,
          4,
          6,
          7,
          6,
          4,
          8,
          2,
          5,
          1,
          3,
          3,
          3,
          2,
          3,
          2,
          3,
          5,
          2,
          6,
          2,
          6,
          1,
          2,
          5,
          1,
          5,
          4,
          3,
          7,
          4,
          1,
          6,
          5,
          6,
          6,
          1,
          6,
          1,
          4,
          5,
          3,
          3,
          2,
          4,
          3,
          4,
          2,
          4,
          5,
          4,
          6,
          4,
          3,
          4,
          4,
          4,
          3,
          5,
          1,
          3,
          3,
          2,
          6,
          6,
          3,
          5,
          5,
          5,
          7,
          3,
          2,
          3,
          3,
          7,
          1,
          3,
          3,
          1,
          5,
          4,
          6,
          3,
          4,
          4,
          1,
          8,
          4,
          3,
          5,
          5,
          5,
          4,
          4,
          6,
          5,
          5,
          3,
          4,
          6,
          3,
          4,
          5,
          6,
          5,
          1,
          4,
          5,
          5,
          7,
          5,
          5,
          5,
          3,
          5,
          4,
          5,
          4,
          4,
          3,
          3,
          2,
          4,
          7,
          4,
          2,
          6,
          6,
          5,
          3,
          3,
          3,
          3,
          1,
          7,
          4,
          4,
          5,
          3,
          5,
          4,
          3,
          3,
          6,
          1,
          2,
          8,
          3,
          6,
          4,
          4,
          4,
          3,
          4,
          4,
          6,
          2,
          3,
          1,
          5,
          4,
          4,
          1,
          3,
          3,
          3,
          5,
          2,
          6,
          7,
          4,
          6,
          4,
          2,
          5,
          5,
          2,
          4,
          5,
          4,
          2,
          3,
          1,
          7,
          6,
          3,
          5,
          3,
          3,
          4,
          2,
          1,
          1,
          2,
          4,
          4,
          1,
          4,
          4,
          6,
          3,
          2,
          3,
          2,
          5,
          2,
          5,
          3,
          4,
          6,
          5,
          5,
          5,
          3,
          4,
          5,
          3,
          4,
          4,
          5,
          5,
          5,
          1,
          4,
          4,
          3,
          2,
          3,
          6,
          5,
          2,
          7,
          3,
          3,
          6,
          4,
          2,
          2,
          2,
          1,
          1,
          4,
          1,
          6,
          4,
          2,
          4,
          5,
          5,
          3,
          3,
          1,
          1,
          3,
          3,
          3,
          3,
          5,
          3,
          6,
          5,
          7,
          2,
          2,
          4,
          2,
          5,
          5,
          3,
          5,
          8,
          3,
          6,
          5,
          6,
          4,
          3,
          4,
          2,
          4,
          4,
          5,
          1,
          5,
          4,
          4,
          6,
          4,
          3,
          6,
          5,
          6,
          3,
          2,
          7,
          3,
          6,
          2,
          5,
          4,
          2,
          3,
          1,
          6,
          5,
          3,
          5
         ],
         "xaxis": "x",
         "yaxis": "y"
        }
       ],
       "layout": {
        "barmode": "relative",
        "legend": {
         "tracegroupgap": 0
        },
        "margin": {
         "t": 60
        },
        "template": {
         "data": {
          "bar": [
           {
            "error_x": {
             "color": "rgb(36,36,36)"
            },
            "error_y": {
             "color": "rgb(36,36,36)"
            },
            "marker": {
             "line": {
              "color": "white",
              "width": 0.5
             },
             "pattern": {
              "fillmode": "overlay",
              "size": 10,
              "solidity": 0.2
             }
            },
            "type": "bar"
           }
          ],
          "barpolar": [
           {
            "marker": {
             "line": {
              "color": "white",
              "width": 0.5
             },
             "pattern": {
              "fillmode": "overlay",
              "size": 10,
              "solidity": 0.2
             }
            },
            "type": "barpolar"
           }
          ],
          "carpet": [
           {
            "aaxis": {
             "endlinecolor": "rgb(36,36,36)",
             "gridcolor": "white",
             "linecolor": "white",
             "minorgridcolor": "white",
             "startlinecolor": "rgb(36,36,36)"
            },
            "baxis": {
             "endlinecolor": "rgb(36,36,36)",
             "gridcolor": "white",
             "linecolor": "white",
             "minorgridcolor": "white",
             "startlinecolor": "rgb(36,36,36)"
            },
            "type": "carpet"
           }
          ],
          "choropleth": [
           {
            "colorbar": {
             "outlinewidth": 1,
             "tickcolor": "rgb(36,36,36)",
             "ticks": "outside"
            },
            "type": "choropleth"
           }
          ],
          "contour": [
           {
            "colorbar": {
             "outlinewidth": 1,
             "tickcolor": "rgb(36,36,36)",
             "ticks": "outside"
            },
            "colorscale": [
             [
              0,
              "#440154"
             ],
             [
              0.1111111111111111,
              "#482878"
             ],
             [
              0.2222222222222222,
              "#3e4989"
             ],
             [
              0.3333333333333333,
              "#31688e"
             ],
             [
              0.4444444444444444,
              "#26828e"
             ],
             [
              0.5555555555555556,
              "#1f9e89"
             ],
             [
              0.6666666666666666,
              "#35b779"
             ],
             [
              0.7777777777777778,
              "#6ece58"
             ],
             [
              0.8888888888888888,
              "#b5de2b"
             ],
             [
              1,
              "#fde725"
             ]
            ],
            "type": "contour"
           }
          ],
          "contourcarpet": [
           {
            "colorbar": {
             "outlinewidth": 1,
             "tickcolor": "rgb(36,36,36)",
             "ticks": "outside"
            },
            "type": "contourcarpet"
           }
          ],
          "heatmap": [
           {
            "colorbar": {
             "outlinewidth": 1,
             "tickcolor": "rgb(36,36,36)",
             "ticks": "outside"
            },
            "colorscale": [
             [
              0,
              "#440154"
             ],
             [
              0.1111111111111111,
              "#482878"
             ],
             [
              0.2222222222222222,
              "#3e4989"
             ],
             [
              0.3333333333333333,
              "#31688e"
             ],
             [
              0.4444444444444444,
              "#26828e"
             ],
             [
              0.5555555555555556,
              "#1f9e89"
             ],
             [
              0.6666666666666666,
              "#35b779"
             ],
             [
              0.7777777777777778,
              "#6ece58"
             ],
             [
              0.8888888888888888,
              "#b5de2b"
             ],
             [
              1,
              "#fde725"
             ]
            ],
            "type": "heatmap"
           }
          ],
          "heatmapgl": [
           {
            "colorbar": {
             "outlinewidth": 1,
             "tickcolor": "rgb(36,36,36)",
             "ticks": "outside"
            },
            "colorscale": [
             [
              0,
              "#440154"
             ],
             [
              0.1111111111111111,
              "#482878"
             ],
             [
              0.2222222222222222,
              "#3e4989"
             ],
             [
              0.3333333333333333,
              "#31688e"
             ],
             [
              0.4444444444444444,
              "#26828e"
             ],
             [
              0.5555555555555556,
              "#1f9e89"
             ],
             [
              0.6666666666666666,
              "#35b779"
             ],
             [
              0.7777777777777778,
              "#6ece58"
             ],
             [
              0.8888888888888888,
              "#b5de2b"
             ],
             [
              1,
              "#fde725"
             ]
            ],
            "type": "heatmapgl"
           }
          ],
          "histogram": [
           {
            "marker": {
             "line": {
              "color": "white",
              "width": 0.6
             }
            },
            "type": "histogram"
           }
          ],
          "histogram2d": [
           {
            "colorbar": {
             "outlinewidth": 1,
             "tickcolor": "rgb(36,36,36)",
             "ticks": "outside"
            },
            "colorscale": [
             [
              0,
              "#440154"
             ],
             [
              0.1111111111111111,
              "#482878"
             ],
             [
              0.2222222222222222,
              "#3e4989"
             ],
             [
              0.3333333333333333,
              "#31688e"
             ],
             [
              0.4444444444444444,
              "#26828e"
             ],
             [
              0.5555555555555556,
              "#1f9e89"
             ],
             [
              0.6666666666666666,
              "#35b779"
             ],
             [
              0.7777777777777778,
              "#6ece58"
             ],
             [
              0.8888888888888888,
              "#b5de2b"
             ],
             [
              1,
              "#fde725"
             ]
            ],
            "type": "histogram2d"
           }
          ],
          "histogram2dcontour": [
           {
            "colorbar": {
             "outlinewidth": 1,
             "tickcolor": "rgb(36,36,36)",
             "ticks": "outside"
            },
            "colorscale": [
             [
              0,
              "#440154"
             ],
             [
              0.1111111111111111,
              "#482878"
             ],
             [
              0.2222222222222222,
              "#3e4989"
             ],
             [
              0.3333333333333333,
              "#31688e"
             ],
             [
              0.4444444444444444,
              "#26828e"
             ],
             [
              0.5555555555555556,
              "#1f9e89"
             ],
             [
              0.6666666666666666,
              "#35b779"
             ],
             [
              0.7777777777777778,
              "#6ece58"
             ],
             [
              0.8888888888888888,
              "#b5de2b"
             ],
             [
              1,
              "#fde725"
             ]
            ],
            "type": "histogram2dcontour"
           }
          ],
          "mesh3d": [
           {
            "colorbar": {
             "outlinewidth": 1,
             "tickcolor": "rgb(36,36,36)",
             "ticks": "outside"
            },
            "type": "mesh3d"
           }
          ],
          "parcoords": [
           {
            "line": {
             "colorbar": {
              "outlinewidth": 1,
              "tickcolor": "rgb(36,36,36)",
              "ticks": "outside"
             }
            },
            "type": "parcoords"
           }
          ],
          "pie": [
           {
            "automargin": true,
            "type": "pie"
           }
          ],
          "scatter": [
           {
            "fillpattern": {
             "fillmode": "overlay",
             "size": 10,
             "solidity": 0.2
            },
            "type": "scatter"
           }
          ],
          "scatter3d": [
           {
            "line": {
             "colorbar": {
              "outlinewidth": 1,
              "tickcolor": "rgb(36,36,36)",
              "ticks": "outside"
             }
            },
            "marker": {
             "colorbar": {
              "outlinewidth": 1,
              "tickcolor": "rgb(36,36,36)",
              "ticks": "outside"
             }
            },
            "type": "scatter3d"
           }
          ],
          "scattercarpet": [
           {
            "marker": {
             "colorbar": {
              "outlinewidth": 1,
              "tickcolor": "rgb(36,36,36)",
              "ticks": "outside"
             }
            },
            "type": "scattercarpet"
           }
          ],
          "scattergeo": [
           {
            "marker": {
             "colorbar": {
              "outlinewidth": 1,
              "tickcolor": "rgb(36,36,36)",
              "ticks": "outside"
             }
            },
            "type": "scattergeo"
           }
          ],
          "scattergl": [
           {
            "marker": {
             "colorbar": {
              "outlinewidth": 1,
              "tickcolor": "rgb(36,36,36)",
              "ticks": "outside"
             }
            },
            "type": "scattergl"
           }
          ],
          "scattermapbox": [
           {
            "marker": {
             "colorbar": {
              "outlinewidth": 1,
              "tickcolor": "rgb(36,36,36)",
              "ticks": "outside"
             }
            },
            "type": "scattermapbox"
           }
          ],
          "scatterpolar": [
           {
            "marker": {
             "colorbar": {
              "outlinewidth": 1,
              "tickcolor": "rgb(36,36,36)",
              "ticks": "outside"
             }
            },
            "type": "scatterpolar"
           }
          ],
          "scatterpolargl": [
           {
            "marker": {
             "colorbar": {
              "outlinewidth": 1,
              "tickcolor": "rgb(36,36,36)",
              "ticks": "outside"
             }
            },
            "type": "scatterpolargl"
           }
          ],
          "scatterternary": [
           {
            "marker": {
             "colorbar": {
              "outlinewidth": 1,
              "tickcolor": "rgb(36,36,36)",
              "ticks": "outside"
             }
            },
            "type": "scatterternary"
           }
          ],
          "surface": [
           {
            "colorbar": {
             "outlinewidth": 1,
             "tickcolor": "rgb(36,36,36)",
             "ticks": "outside"
            },
            "colorscale": [
             [
              0,
              "#440154"
             ],
             [
              0.1111111111111111,
              "#482878"
             ],
             [
              0.2222222222222222,
              "#3e4989"
             ],
             [
              0.3333333333333333,
              "#31688e"
             ],
             [
              0.4444444444444444,
              "#26828e"
             ],
             [
              0.5555555555555556,
              "#1f9e89"
             ],
             [
              0.6666666666666666,
              "#35b779"
             ],
             [
              0.7777777777777778,
              "#6ece58"
             ],
             [
              0.8888888888888888,
              "#b5de2b"
             ],
             [
              1,
              "#fde725"
             ]
            ],
            "type": "surface"
           }
          ],
          "table": [
           {
            "cells": {
             "fill": {
              "color": "rgb(237,237,237)"
             },
             "line": {
              "color": "white"
             }
            },
            "header": {
             "fill": {
              "color": "rgb(217,217,217)"
             },
             "line": {
              "color": "white"
             }
            },
            "type": "table"
           }
          ]
         },
         "layout": {
          "annotationdefaults": {
           "arrowhead": 0,
           "arrowwidth": 1
          },
          "autotypenumbers": "strict",
          "coloraxis": {
           "colorbar": {
            "outlinewidth": 1,
            "tickcolor": "rgb(36,36,36)",
            "ticks": "outside"
           }
          },
          "colorscale": {
           "diverging": [
            [
             0,
             "rgb(103,0,31)"
            ],
            [
             0.1,
             "rgb(178,24,43)"
            ],
            [
             0.2,
             "rgb(214,96,77)"
            ],
            [
             0.3,
             "rgb(244,165,130)"
            ],
            [
             0.4,
             "rgb(253,219,199)"
            ],
            [
             0.5,
             "rgb(247,247,247)"
            ],
            [
             0.6,
             "rgb(209,229,240)"
            ],
            [
             0.7,
             "rgb(146,197,222)"
            ],
            [
             0.8,
             "rgb(67,147,195)"
            ],
            [
             0.9,
             "rgb(33,102,172)"
            ],
            [
             1,
             "rgb(5,48,97)"
            ]
           ],
           "sequential": [
            [
             0,
             "#440154"
            ],
            [
             0.1111111111111111,
             "#482878"
            ],
            [
             0.2222222222222222,
             "#3e4989"
            ],
            [
             0.3333333333333333,
             "#31688e"
            ],
            [
             0.4444444444444444,
             "#26828e"
            ],
            [
             0.5555555555555556,
             "#1f9e89"
            ],
            [
             0.6666666666666666,
             "#35b779"
            ],
            [
             0.7777777777777778,
             "#6ece58"
            ],
            [
             0.8888888888888888,
             "#b5de2b"
            ],
            [
             1,
             "#fde725"
            ]
           ],
           "sequentialminus": [
            [
             0,
             "#440154"
            ],
            [
             0.1111111111111111,
             "#482878"
            ],
            [
             0.2222222222222222,
             "#3e4989"
            ],
            [
             0.3333333333333333,
             "#31688e"
            ],
            [
             0.4444444444444444,
             "#26828e"
            ],
            [
             0.5555555555555556,
             "#1f9e89"
            ],
            [
             0.6666666666666666,
             "#35b779"
            ],
            [
             0.7777777777777778,
             "#6ece58"
            ],
            [
             0.8888888888888888,
             "#b5de2b"
            ],
            [
             1,
             "#fde725"
            ]
           ]
          },
          "colorway": [
           "#1F77B4",
           "#FF7F0E",
           "#2CA02C",
           "#D62728",
           "#9467BD",
           "#8C564B",
           "#E377C2",
           "#7F7F7F",
           "#BCBD22",
           "#17BECF"
          ],
          "font": {
           "color": "rgb(36,36,36)"
          },
          "geo": {
           "bgcolor": "white",
           "lakecolor": "white",
           "landcolor": "white",
           "showlakes": true,
           "showland": true,
           "subunitcolor": "white"
          },
          "hoverlabel": {
           "align": "left"
          },
          "hovermode": "closest",
          "mapbox": {
           "style": "light"
          },
          "paper_bgcolor": "white",
          "plot_bgcolor": "white",
          "polar": {
           "angularaxis": {
            "gridcolor": "rgb(232,232,232)",
            "linecolor": "rgb(36,36,36)",
            "showgrid": false,
            "showline": true,
            "ticks": "outside"
           },
           "bgcolor": "white",
           "radialaxis": {
            "gridcolor": "rgb(232,232,232)",
            "linecolor": "rgb(36,36,36)",
            "showgrid": false,
            "showline": true,
            "ticks": "outside"
           }
          },
          "scene": {
           "xaxis": {
            "backgroundcolor": "white",
            "gridcolor": "rgb(232,232,232)",
            "gridwidth": 2,
            "linecolor": "rgb(36,36,36)",
            "showbackground": true,
            "showgrid": false,
            "showline": true,
            "ticks": "outside",
            "zeroline": false,
            "zerolinecolor": "rgb(36,36,36)"
           },
           "yaxis": {
            "backgroundcolor": "white",
            "gridcolor": "rgb(232,232,232)",
            "gridwidth": 2,
            "linecolor": "rgb(36,36,36)",
            "showbackground": true,
            "showgrid": false,
            "showline": true,
            "ticks": "outside",
            "zeroline": false,
            "zerolinecolor": "rgb(36,36,36)"
           },
           "zaxis": {
            "backgroundcolor": "white",
            "gridcolor": "rgb(232,232,232)",
            "gridwidth": 2,
            "linecolor": "rgb(36,36,36)",
            "showbackground": true,
            "showgrid": false,
            "showline": true,
            "ticks": "outside",
            "zeroline": false,
            "zerolinecolor": "rgb(36,36,36)"
           }
          },
          "shapedefaults": {
           "fillcolor": "black",
           "line": {
            "width": 0
           },
           "opacity": 0.3
          },
          "ternary": {
           "aaxis": {
            "gridcolor": "rgb(232,232,232)",
            "linecolor": "rgb(36,36,36)",
            "showgrid": false,
            "showline": true,
            "ticks": "outside"
           },
           "baxis": {
            "gridcolor": "rgb(232,232,232)",
            "linecolor": "rgb(36,36,36)",
            "showgrid": false,
            "showline": true,
            "ticks": "outside"
           },
           "bgcolor": "white",
           "caxis": {
            "gridcolor": "rgb(232,232,232)",
            "linecolor": "rgb(36,36,36)",
            "showgrid": false,
            "showline": true,
            "ticks": "outside"
           }
          },
          "title": {
           "x": 0.05
          },
          "xaxis": {
           "automargin": true,
           "gridcolor": "rgb(232,232,232)",
           "linecolor": "rgb(36,36,36)",
           "showgrid": false,
           "showline": true,
           "ticks": "outside",
           "title": {
            "standoff": 15
           },
           "zeroline": false,
           "zerolinecolor": "rgb(36,36,36)"
          },
          "yaxis": {
           "automargin": true,
           "gridcolor": "rgb(232,232,232)",
           "linecolor": "rgb(36,36,36)",
           "showgrid": false,
           "showline": true,
           "ticks": "outside",
           "title": {
            "standoff": 15
           },
           "zeroline": false,
           "zerolinecolor": "rgb(36,36,36)"
          }
         }
        },
        "xaxis": {
         "anchor": "y",
         "domain": [
          0,
          1
         ],
         "title": {
          "text": "x"
         }
        },
        "yaxis": {
         "anchor": "x",
         "domain": [
          0,
          1
         ],
         "title": {
          "text": "count"
         }
        }
       }
      },
      "text/html": [
       "<div>                            <div id=\"2a6994b4-5753-4ef7-88b5-ed577bde586f\" class=\"plotly-graph-div\" style=\"height:525px; width:100%;\"></div>            <script type=\"text/javascript\">                require([\"plotly\"], function(Plotly) {                    window.PLOTLYENV=window.PLOTLYENV || {};                                    if (document.getElementById(\"2a6994b4-5753-4ef7-88b5-ed577bde586f\")) {                    Plotly.newPlot(                        \"2a6994b4-5753-4ef7-88b5-ed577bde586f\",                        [{\"alignmentgroup\":\"True\",\"bingroup\":\"x\",\"hovertemplate\":\"x=%{x}<br>count=%{y}<extra></extra>\",\"legendgroup\":\"\",\"marker\":{\"color\":\"#1F77B4\",\"pattern\":{\"shape\":\"\"}},\"name\":\"\",\"offsetgroup\":\"\",\"orientation\":\"v\",\"showlegend\":false,\"x\":[2,3,2,1,1,1,2,3,2,1,1,1,1,3,3,3,3,2,3,3,2,4,2,2,1,3,3,2,3,2,2,1,4,3,6,1,1,3,2,2,2,3,1,5,1,1,1,3,1,1,1,1,1,3,2,1,3,2,1,4,4,5,3,1,1,3,2,3,4,3,3,5,5,1,3,3,1,1,2,3,4,4,7,3,2,3,4,3,6,3,2,2,4,4,4,2,4,2,2,2,5,4,5,4,4,3,1,6,3,2,2,2,3,1,4,4,5,5,2,4,1,4,3,2,1,2,1,2,3,1,4,1,6,3,5,3,4,1,2,4,4,2,3,3,1,6,3,1,6,4,2,1,1,3,3,3,3,2,3,3,4,4,6,3,5,3,1,5,2,4,1,4,3,2,2,3,4,5,1,4,8,9,8,5,4,4,5,6,7,4,7,7,9,4,9,5,6,8,5,9,8,8,7,7,5,7,8,9,8,5,6,4,7,8,7,5,7,6,7,6,6,7,9,8,8,5,6,8,9,7,5,5,5,7,9,6,4,9,6,8,6,7,4,4,6,3,4,7,4,7,8,6,7,5,8,5,9,7,6,6,7,5,9,7,8,8,8,5,8,6,5,4,6,8,4,5,7,7,6,7,6,5,8,7,9,6,6,8,8,6,5,7,3,4,7,3,8,8,5,8,7,8,8,4,1,6,5,8,6,2,7,5,7,5,9,5,5,7,5,6,7,4,5,8,6,9,7,7,8,5,8,4,6,5,7,6,4,7,6,7,6,7,8,4,8,6,3,6,7,8,6,8,6,4,7,5,9,8,4,7,6,5,5,3,2,5,3,5,4,7,6,7,7,4,6,3,8,8,6,5,6,5,6,5,6,6,5,7,8,6,7,5,5,6,7,4,7,6,5,5,5,3,8,7,9,4,2,6,8,3,3,7,4,3,2,4,5,3,5,6,7,6,7,2,3,6,3,7,6,2,3,6,5,4,9,2,4,7,3,8,5,4,3,6,5,7,7,3,7,4,5,3,6,6,6,2,5,7,3,8,6,6,8,8,7,5,4,9,9,8,3,7,6,6,4,7,6,7,3,6,9,7,8,3,5,6,6,8,4,5,9,5,9,5,9,4,8,6,4,7,7,7,8,8,4,6,8,8,9,5,6,4,5,8,9,2,6,6,3,7,6,9,8,5,5,7,4,9,9,5,6,8,6,5,6,7,7,8,8,8,3,7,2,2,2,3,3,5,3,5,3,2,4,3,6,2,3,2,2,4,3,2,5,4,4,4,4,2,5,4,2,3,4,2,5,1,5,4,1,5,5,4,7,1,6,4,1,4,4,1,3,2,2,2,4,1,5,4,3,5,6,5,5,5,1,3,1,1,1,3,5,1,7,3,7,3,4,6,2,4,4,4,4,4,4,6,5,6,1,3,3,3,6,4,7,4,3,1,3,2,5,4,5,2,2,3,1,3,2,4,3,4,1,2,4,3,6,5,2,4,3,6,7,3,3,4,2,5,3,4,6,4,5,2,5,4,7,3,5,5,7,6,5,6,3,6,7,5,5,4,5,3,7,6,6,2,3,3,2,3,3,2,4,3,6,3,1,5,7,4,5,5,3,5,2,5,6,4,4,3,5,7,2,1,4,2,3,4,1,3,7,2,6,3,6,5,2,5,1,6,4,4,5,6,3,6,5,5,6,2,5,3,5,4,4,4,2,7,3,5,6,4,4,7,6,5,1,5,5,2,4,4,5,5,2,2,5,5,4,5,4,6,4,1,6,3,3,6,3,4,5,3,6,4,4,5,5,5,2,5,7,6,7,5,2,6,6,3,7,5,4,2,3,7,6,3,8,3,2,3,9,4,5,7,5,6,5,5,6,4,3,4,5,3,2,4,5,4,3,8,7,8,4,3,5,7,5,7,4,5,7,4,7,5,7,3,6,8,4,6,3,6,6,8,5,5,5,9,6,4,7,5,6,7,7,3,4,3,5,8,4,5,6,4,8,6,3,9,6,4,5,7,6,4,4,3,8,6,4,7,5,6,6,5,4,6,7,6,6,7,7,6,9,2,9,5,5,7,4,9,6,7,8,8,8,7,6,9,9,7,3,6,7,6,9,8,6,8,3,7,5,7,7,7,8,7,5,9,8,4,7,7,5,4,4,6,7,7,3,8,6,6,6,5,5,4,3,7,5,7,7,8,6,3,7,6,6,3,4,8,6,6,7,6,4,8,8,8,8,7,4,3,8,6,8,5,5,5,6,7,6,6,7,6,7,5,2,7,7,8,4,6,4,5,6,4,7,8,5,5,6,8,6,5,2,8,5,7,4,4,5,4,9,4,5,4,5,5,5,5,6,7,5,5,5,8,4,9,8,6,6,6,4,6,6,2,4,6,5,6,4,4,6,6,6,5,5,7,6,5,6,5,5,4,5,5,7,7,5,6,6,8,6,5,4,6,8,6,5,7,8,3,8,5,8,5,4,7,5,7,7,7,7,8,7,7,9,6,7,7,6,5,7,7,8,2,5,6,4,8,7,4,9,6,6,6,5,8,5,5,7,7,8,5,5,5,7,7,4,8,6,9,6,7,2,4,4,6,5,8,6,6,9,4,8,7,4,5,5,6,5,6,7,9,5,9,6,9,7,6,9,5,7,7,7,6,7,5,6,9,5,5,7,7,9,5,8,7,7,6,5,6,5,4,4,7,6,7,4,6,8,8,7,4,6,6,4,9,6,9,8,7,7,4,8,6,6,6,7,6,6,6,7,9,4,8,6,7,9,9,6,6,6,4,7,5,7,8,6,5,7,7,8,8,9,9,5,8,8,7,7,9,8,8,4,7,8,9,4,6,7,6,5,1,5,3,4,6,3,2,6,5,5,3,8,4,3,6,6,7,5,8,5,6,3,8,5,6,9,2,5,5,5,5,8,4,5,3,5,7,5,5,7,4,7,4,5,6,6,5,3,6,6,2,5,2,8,7,3,5,7,7,6,4,5,3,5,7,7,6,8,6,8,4,6,4,7,6,6,6,8,6,8,6,4,8,6,8,9,4,7,4,8,6,6,3,7,6,6,6,8,4,7,8,9,3,6,8,8,5,4,7,6,5,6,7,8,7,4,7,6,5,2,3,1,3,2,4,6,2,3,4,3,4,7,4,3,5,1,7,3,5,5,5,6,5,3,8,5,2,3,2,4,6,6,4,3,1,2,4,3,5,5,4,7,4,3,4,4,2,5,6,2,3,3,1,5,7,2,4,4,6,7,2,2,4,4,5,5,3,6,6,7,5,6,3,6,7,5,8,4,7,5,8,5,5,6,8,9,6,6,2,3,6,6,5,3,4,6,3,4,6,5,5,7,7,5,6,8,7,8,6,4,5,4,6,7,6,4,8,2,5,1,3,3,3,2,3,2,3,5,2,6,2,6,1,2,5,1,5,4,3,7,4,1,6,5,6,6,1,6,1,4,5,3,3,2,4,3,4,2,4,5,4,6,4,3,4,4,4,3,5,1,3,3,2,6,6,3,5,5,5,7,3,2,3,3,7,1,3,3,1,5,4,6,3,4,4,1,8,4,3,5,5,5,4,4,6,5,5,3,4,6,3,4,5,6,5,1,4,5,5,7,5,5,5,3,5,4,5,4,4,3,3,2,4,7,4,2,6,6,5,3,3,3,3,1,7,4,4,5,3,5,4,3,3,6,1,2,8,3,6,4,4,4,3,4,4,6,2,3,1,5,4,4,1,3,3,3,5,2,6,7,4,6,4,2,5,5,2,4,5,4,2,3,1,7,6,3,5,3,3,4,2,1,1,2,4,4,1,4,4,6,3,2,3,2,5,2,5,3,4,6,5,5,5,3,4,5,3,4,4,5,5,5,1,4,4,3,2,3,6,5,2,7,3,3,6,4,2,2,2,1,1,4,1,6,4,2,4,5,5,3,3,1,1,3,3,3,3,5,3,6,5,7,2,2,4,2,5,5,3,5,8,3,6,5,6,4,3,4,2,4,4,5,1,5,4,4,6,4,3,6,5,6,3,2,7,3,6,2,5,4,2,3,1,6,5,3,5],\"xaxis\":\"x\",\"yaxis\":\"y\",\"type\":\"histogram\"}],                        {\"template\":{\"data\":{\"histogram2dcontour\":[{\"type\":\"histogram2dcontour\",\"colorbar\":{\"outlinewidth\":1,\"tickcolor\":\"rgb(36,36,36)\",\"ticks\":\"outside\"},\"colorscale\":[[0.0,\"#440154\"],[0.1111111111111111,\"#482878\"],[0.2222222222222222,\"#3e4989\"],[0.3333333333333333,\"#31688e\"],[0.4444444444444444,\"#26828e\"],[0.5555555555555556,\"#1f9e89\"],[0.6666666666666666,\"#35b779\"],[0.7777777777777778,\"#6ece58\"],[0.8888888888888888,\"#b5de2b\"],[1.0,\"#fde725\"]]}],\"choropleth\":[{\"type\":\"choropleth\",\"colorbar\":{\"outlinewidth\":1,\"tickcolor\":\"rgb(36,36,36)\",\"ticks\":\"outside\"}}],\"histogram2d\":[{\"type\":\"histogram2d\",\"colorbar\":{\"outlinewidth\":1,\"tickcolor\":\"rgb(36,36,36)\",\"ticks\":\"outside\"},\"colorscale\":[[0.0,\"#440154\"],[0.1111111111111111,\"#482878\"],[0.2222222222222222,\"#3e4989\"],[0.3333333333333333,\"#31688e\"],[0.4444444444444444,\"#26828e\"],[0.5555555555555556,\"#1f9e89\"],[0.6666666666666666,\"#35b779\"],[0.7777777777777778,\"#6ece58\"],[0.8888888888888888,\"#b5de2b\"],[1.0,\"#fde725\"]]}],\"heatmap\":[{\"type\":\"heatmap\",\"colorbar\":{\"outlinewidth\":1,\"tickcolor\":\"rgb(36,36,36)\",\"ticks\":\"outside\"},\"colorscale\":[[0.0,\"#440154\"],[0.1111111111111111,\"#482878\"],[0.2222222222222222,\"#3e4989\"],[0.3333333333333333,\"#31688e\"],[0.4444444444444444,\"#26828e\"],[0.5555555555555556,\"#1f9e89\"],[0.6666666666666666,\"#35b779\"],[0.7777777777777778,\"#6ece58\"],[0.8888888888888888,\"#b5de2b\"],[1.0,\"#fde725\"]]}],\"heatmapgl\":[{\"type\":\"heatmapgl\",\"colorbar\":{\"outlinewidth\":1,\"tickcolor\":\"rgb(36,36,36)\",\"ticks\":\"outside\"},\"colorscale\":[[0.0,\"#440154\"],[0.1111111111111111,\"#482878\"],[0.2222222222222222,\"#3e4989\"],[0.3333333333333333,\"#31688e\"],[0.4444444444444444,\"#26828e\"],[0.5555555555555556,\"#1f9e89\"],[0.6666666666666666,\"#35b779\"],[0.7777777777777778,\"#6ece58\"],[0.8888888888888888,\"#b5de2b\"],[1.0,\"#fde725\"]]}],\"contourcarpet\":[{\"type\":\"contourcarpet\",\"colorbar\":{\"outlinewidth\":1,\"tickcolor\":\"rgb(36,36,36)\",\"ticks\":\"outside\"}}],\"contour\":[{\"type\":\"contour\",\"colorbar\":{\"outlinewidth\":1,\"tickcolor\":\"rgb(36,36,36)\",\"ticks\":\"outside\"},\"colorscale\":[[0.0,\"#440154\"],[0.1111111111111111,\"#482878\"],[0.2222222222222222,\"#3e4989\"],[0.3333333333333333,\"#31688e\"],[0.4444444444444444,\"#26828e\"],[0.5555555555555556,\"#1f9e89\"],[0.6666666666666666,\"#35b779\"],[0.7777777777777778,\"#6ece58\"],[0.8888888888888888,\"#b5de2b\"],[1.0,\"#fde725\"]]}],\"surface\":[{\"type\":\"surface\",\"colorbar\":{\"outlinewidth\":1,\"tickcolor\":\"rgb(36,36,36)\",\"ticks\":\"outside\"},\"colorscale\":[[0.0,\"#440154\"],[0.1111111111111111,\"#482878\"],[0.2222222222222222,\"#3e4989\"],[0.3333333333333333,\"#31688e\"],[0.4444444444444444,\"#26828e\"],[0.5555555555555556,\"#1f9e89\"],[0.6666666666666666,\"#35b779\"],[0.7777777777777778,\"#6ece58\"],[0.8888888888888888,\"#b5de2b\"],[1.0,\"#fde725\"]]}],\"mesh3d\":[{\"type\":\"mesh3d\",\"colorbar\":{\"outlinewidth\":1,\"tickcolor\":\"rgb(36,36,36)\",\"ticks\":\"outside\"}}],\"scatter\":[{\"fillpattern\":{\"fillmode\":\"overlay\",\"size\":10,\"solidity\":0.2},\"type\":\"scatter\"}],\"parcoords\":[{\"type\":\"parcoords\",\"line\":{\"colorbar\":{\"outlinewidth\":1,\"tickcolor\":\"rgb(36,36,36)\",\"ticks\":\"outside\"}}}],\"scatterpolargl\":[{\"type\":\"scatterpolargl\",\"marker\":{\"colorbar\":{\"outlinewidth\":1,\"tickcolor\":\"rgb(36,36,36)\",\"ticks\":\"outside\"}}}],\"bar\":[{\"error_x\":{\"color\":\"rgb(36,36,36)\"},\"error_y\":{\"color\":\"rgb(36,36,36)\"},\"marker\":{\"line\":{\"color\":\"white\",\"width\":0.5},\"pattern\":{\"fillmode\":\"overlay\",\"size\":10,\"solidity\":0.2}},\"type\":\"bar\"}],\"scattergeo\":[{\"type\":\"scattergeo\",\"marker\":{\"colorbar\":{\"outlinewidth\":1,\"tickcolor\":\"rgb(36,36,36)\",\"ticks\":\"outside\"}}}],\"scatterpolar\":[{\"type\":\"scatterpolar\",\"marker\":{\"colorbar\":{\"outlinewidth\":1,\"tickcolor\":\"rgb(36,36,36)\",\"ticks\":\"outside\"}}}],\"histogram\":[{\"marker\":{\"line\":{\"color\":\"white\",\"width\":0.6}},\"type\":\"histogram\"}],\"scattergl\":[{\"type\":\"scattergl\",\"marker\":{\"colorbar\":{\"outlinewidth\":1,\"tickcolor\":\"rgb(36,36,36)\",\"ticks\":\"outside\"}}}],\"scatter3d\":[{\"type\":\"scatter3d\",\"line\":{\"colorbar\":{\"outlinewidth\":1,\"tickcolor\":\"rgb(36,36,36)\",\"ticks\":\"outside\"}},\"marker\":{\"colorbar\":{\"outlinewidth\":1,\"tickcolor\":\"rgb(36,36,36)\",\"ticks\":\"outside\"}}}],\"scattermapbox\":[{\"type\":\"scattermapbox\",\"marker\":{\"colorbar\":{\"outlinewidth\":1,\"tickcolor\":\"rgb(36,36,36)\",\"ticks\":\"outside\"}}}],\"scatterternary\":[{\"type\":\"scatterternary\",\"marker\":{\"colorbar\":{\"outlinewidth\":1,\"tickcolor\":\"rgb(36,36,36)\",\"ticks\":\"outside\"}}}],\"scattercarpet\":[{\"type\":\"scattercarpet\",\"marker\":{\"colorbar\":{\"outlinewidth\":1,\"tickcolor\":\"rgb(36,36,36)\",\"ticks\":\"outside\"}}}],\"carpet\":[{\"aaxis\":{\"endlinecolor\":\"rgb(36,36,36)\",\"gridcolor\":\"white\",\"linecolor\":\"white\",\"minorgridcolor\":\"white\",\"startlinecolor\":\"rgb(36,36,36)\"},\"baxis\":{\"endlinecolor\":\"rgb(36,36,36)\",\"gridcolor\":\"white\",\"linecolor\":\"white\",\"minorgridcolor\":\"white\",\"startlinecolor\":\"rgb(36,36,36)\"},\"type\":\"carpet\"}],\"table\":[{\"cells\":{\"fill\":{\"color\":\"rgb(237,237,237)\"},\"line\":{\"color\":\"white\"}},\"header\":{\"fill\":{\"color\":\"rgb(217,217,217)\"},\"line\":{\"color\":\"white\"}},\"type\":\"table\"}],\"barpolar\":[{\"marker\":{\"line\":{\"color\":\"white\",\"width\":0.5},\"pattern\":{\"fillmode\":\"overlay\",\"size\":10,\"solidity\":0.2}},\"type\":\"barpolar\"}],\"pie\":[{\"automargin\":true,\"type\":\"pie\"}]},\"layout\":{\"autotypenumbers\":\"strict\",\"colorway\":[\"#1F77B4\",\"#FF7F0E\",\"#2CA02C\",\"#D62728\",\"#9467BD\",\"#8C564B\",\"#E377C2\",\"#7F7F7F\",\"#BCBD22\",\"#17BECF\"],\"font\":{\"color\":\"rgb(36,36,36)\"},\"hovermode\":\"closest\",\"hoverlabel\":{\"align\":\"left\"},\"paper_bgcolor\":\"white\",\"plot_bgcolor\":\"white\",\"polar\":{\"bgcolor\":\"white\",\"angularaxis\":{\"gridcolor\":\"rgb(232,232,232)\",\"linecolor\":\"rgb(36,36,36)\",\"showgrid\":false,\"showline\":true,\"ticks\":\"outside\"},\"radialaxis\":{\"gridcolor\":\"rgb(232,232,232)\",\"linecolor\":\"rgb(36,36,36)\",\"showgrid\":false,\"showline\":true,\"ticks\":\"outside\"}},\"ternary\":{\"bgcolor\":\"white\",\"aaxis\":{\"gridcolor\":\"rgb(232,232,232)\",\"linecolor\":\"rgb(36,36,36)\",\"showgrid\":false,\"showline\":true,\"ticks\":\"outside\"},\"baxis\":{\"gridcolor\":\"rgb(232,232,232)\",\"linecolor\":\"rgb(36,36,36)\",\"showgrid\":false,\"showline\":true,\"ticks\":\"outside\"},\"caxis\":{\"gridcolor\":\"rgb(232,232,232)\",\"linecolor\":\"rgb(36,36,36)\",\"showgrid\":false,\"showline\":true,\"ticks\":\"outside\"}},\"coloraxis\":{\"colorbar\":{\"outlinewidth\":1,\"tickcolor\":\"rgb(36,36,36)\",\"ticks\":\"outside\"}},\"colorscale\":{\"sequential\":[[0.0,\"#440154\"],[0.1111111111111111,\"#482878\"],[0.2222222222222222,\"#3e4989\"],[0.3333333333333333,\"#31688e\"],[0.4444444444444444,\"#26828e\"],[0.5555555555555556,\"#1f9e89\"],[0.6666666666666666,\"#35b779\"],[0.7777777777777778,\"#6ece58\"],[0.8888888888888888,\"#b5de2b\"],[1.0,\"#fde725\"]],\"sequentialminus\":[[0.0,\"#440154\"],[0.1111111111111111,\"#482878\"],[0.2222222222222222,\"#3e4989\"],[0.3333333333333333,\"#31688e\"],[0.4444444444444444,\"#26828e\"],[0.5555555555555556,\"#1f9e89\"],[0.6666666666666666,\"#35b779\"],[0.7777777777777778,\"#6ece58\"],[0.8888888888888888,\"#b5de2b\"],[1.0,\"#fde725\"]],\"diverging\":[[0.0,\"rgb(103,0,31)\"],[0.1,\"rgb(178,24,43)\"],[0.2,\"rgb(214,96,77)\"],[0.3,\"rgb(244,165,130)\"],[0.4,\"rgb(253,219,199)\"],[0.5,\"rgb(247,247,247)\"],[0.6,\"rgb(209,229,240)\"],[0.7,\"rgb(146,197,222)\"],[0.8,\"rgb(67,147,195)\"],[0.9,\"rgb(33,102,172)\"],[1.0,\"rgb(5,48,97)\"]]},\"xaxis\":{\"gridcolor\":\"rgb(232,232,232)\",\"linecolor\":\"rgb(36,36,36)\",\"showgrid\":false,\"showline\":true,\"ticks\":\"outside\",\"title\":{\"standoff\":15},\"zerolinecolor\":\"rgb(36,36,36)\",\"automargin\":true,\"zeroline\":false},\"yaxis\":{\"gridcolor\":\"rgb(232,232,232)\",\"linecolor\":\"rgb(36,36,36)\",\"showgrid\":false,\"showline\":true,\"ticks\":\"outside\",\"title\":{\"standoff\":15},\"zerolinecolor\":\"rgb(36,36,36)\",\"automargin\":true,\"zeroline\":false},\"scene\":{\"xaxis\":{\"backgroundcolor\":\"white\",\"gridcolor\":\"rgb(232,232,232)\",\"linecolor\":\"rgb(36,36,36)\",\"showbackground\":true,\"showgrid\":false,\"showline\":true,\"ticks\":\"outside\",\"zerolinecolor\":\"rgb(36,36,36)\",\"gridwidth\":2,\"zeroline\":false},\"yaxis\":{\"backgroundcolor\":\"white\",\"gridcolor\":\"rgb(232,232,232)\",\"linecolor\":\"rgb(36,36,36)\",\"showbackground\":true,\"showgrid\":false,\"showline\":true,\"ticks\":\"outside\",\"zerolinecolor\":\"rgb(36,36,36)\",\"gridwidth\":2,\"zeroline\":false},\"zaxis\":{\"backgroundcolor\":\"white\",\"gridcolor\":\"rgb(232,232,232)\",\"linecolor\":\"rgb(36,36,36)\",\"showbackground\":true,\"showgrid\":false,\"showline\":true,\"ticks\":\"outside\",\"zerolinecolor\":\"rgb(36,36,36)\",\"gridwidth\":2,\"zeroline\":false}},\"shapedefaults\":{\"fillcolor\":\"black\",\"line\":{\"width\":0},\"opacity\":0.3},\"annotationdefaults\":{\"arrowhead\":0,\"arrowwidth\":1},\"geo\":{\"bgcolor\":\"white\",\"landcolor\":\"white\",\"subunitcolor\":\"white\",\"showland\":true,\"showlakes\":true,\"lakecolor\":\"white\"},\"title\":{\"x\":0.05},\"mapbox\":{\"style\":\"light\"}}},\"xaxis\":{\"anchor\":\"y\",\"domain\":[0.0,1.0],\"title\":{\"text\":\"x\"}},\"yaxis\":{\"anchor\":\"x\",\"domain\":[0.0,1.0],\"title\":{\"text\":\"count\"}},\"legend\":{\"tracegroupgap\":0},\"margin\":{\"t\":60},\"barmode\":\"relative\"},                        {\"responsive\": true}                    ).then(function(){\n",
       "                            \n",
       "var gd = document.getElementById('2a6994b4-5753-4ef7-88b5-ed577bde586f');\n",
       "var x = new MutationObserver(function (mutations, observer) {{\n",
       "        var display = window.getComputedStyle(gd).display;\n",
       "        if (!display || display === 'none') {{\n",
       "            console.log([gd, 'removed!']);\n",
       "            Plotly.purge(gd);\n",
       "            observer.disconnect();\n",
       "        }}\n",
       "}});\n",
       "\n",
       "// Listen for the removal of the full notebook cells\n",
       "var notebookContainer = gd.closest('#notebook-container');\n",
       "if (notebookContainer) {{\n",
       "    x.observe(notebookContainer, {childList: true});\n",
       "}}\n",
       "\n",
       "// Listen for the clearing of the current output cell\n",
       "var outputEl = gd.closest('.output');\n",
       "if (outputEl) {{\n",
       "    x.observe(outputEl, {childList: true});\n",
       "}}\n",
       "\n",
       "                        })                };                });            </script>        </div>"
      ]
     },
     "metadata": {},
     "output_type": "display_data"
    }
   ],
   "source": [
    "px.histogram(x=thetas.QUALITY)"
   ]
  },
  {
   "cell_type": "code",
   "execution_count": 56,
   "id": "aae6fd40",
   "metadata": {},
   "outputs": [],
   "source": [
    "thetas.to_csv('./model_data/data_for_param_recover.csv', index=False)"
   ]
  },
  {
   "cell_type": "markdown",
   "id": "10faffe6",
   "metadata": {},
   "source": [
    "## Estimate parameters via the model"
   ]
  },
  {
   "cell_type": "code",
   "execution_count": 34,
   "id": "3f622572",
   "metadata": {},
   "outputs": [],
   "source": [
    "# get model data\n",
    "model_data = utils.get_model_data(thetas, DIST=dist_matrix)"
   ]
  },
  {
   "cell_type": "code",
   "execution_count": 35,
   "id": "c122adcf",
   "metadata": {},
   "outputs": [
    {
     "name": "stderr",
     "output_type": "stream",
     "text": [
      "INFO:cmdstanpy:found newer exe file, not recompiling\n"
     ]
    }
   ],
   "source": [
    "# load stan model\n",
    "try : \n",
    "    model = CmdStanModel(stan_file='./src/no_consistent_rater_model_dist_matrix.stan',\n",
    "                         cpp_options={'STAN_THREADS': 'true'})\n",
    "except:\n",
    "    cmdstanpy.rebuild_cmdstan()"
   ]
  },
  {
   "cell_type": "code",
   "execution_count": 36,
   "id": "cc3ebecf",
   "metadata": {},
   "outputs": [
    {
     "name": "stderr",
     "output_type": "stream",
     "text": [
      "INFO:cmdstanpy:CmdStan start processing\n"
     ]
    },
    {
     "data": {
      "application/vnd.jupyter.widget-view+json": {
       "model_id": "4a4c4fc1d9fc4b608ae4408c83451897",
       "version_major": 2,
       "version_minor": 0
      },
      "text/plain": [
       "chain 1 |          | 00:00 Status"
      ]
     },
     "metadata": {},
     "output_type": "display_data"
    },
    {
     "data": {
      "application/vnd.jupyter.widget-view+json": {
       "model_id": "55a06d095bd141ef9a27180175345274",
       "version_major": 2,
       "version_minor": 0
      },
      "text/plain": [
       "chain 2 |          | 00:00 Status"
      ]
     },
     "metadata": {},
     "output_type": "display_data"
    },
    {
     "data": {
      "application/vnd.jupyter.widget-view+json": {
       "model_id": "dc119f9e2d09475389d91f2c409f643f",
       "version_major": 2,
       "version_minor": 0
      },
      "text/plain": [
       "chain 3 |          | 00:00 Status"
      ]
     },
     "metadata": {},
     "output_type": "display_data"
    },
    {
     "data": {
      "application/vnd.jupyter.widget-view+json": {
       "model_id": "6b7fa526051a424ab0b9657ac771a358",
       "version_major": 2,
       "version_minor": 0
      },
      "text/plain": [
       "chain 4 |          | 00:00 Status"
      ]
     },
     "metadata": {},
     "output_type": "display_data"
    },
    {
     "name": "stdout",
     "output_type": "stream",
     "text": [
      "                                                                                                                                                                                                                                                                                                                                "
     ]
    },
    {
     "name": "stderr",
     "output_type": "stream",
     "text": [
      "INFO:cmdstanpy:CmdStan done processing.\n"
     ]
    },
    {
     "name": "stdout",
     "output_type": "stream",
     "text": [
      "\n"
     ]
    }
   ],
   "source": [
    "### fit the model\n",
    "fit = model.sample(data=model_data, chains=4, parallel_chains=4, adapt_delta=0.99, max_treedepth=15,\n",
    "                   refresh=1, iter_warmup=500, iter_sampling=1000, save_warmup=True, \n",
    "                   output_dir='./model_output/param_recover', seed=123,\n",
    "                   time_fmt='%Y%m%d')"
   ]
  },
  {
   "cell_type": "code",
   "execution_count": 37,
   "id": "11fc8cae",
   "metadata": {},
   "outputs": [
    {
     "data": {
      "text/plain": [
       "'Processing csv files: /Users/henryqu/Documents/GitHub/ntep-rsm/model_output/param_recover/no_consistent_rater_model_dist_matrix-20230306_1.csvWarning: non-fatal error reading adaptation data\\n, /Users/henryqu/Documents/GitHub/ntep-rsm/model_output/param_recover/no_consistent_rater_model_dist_matrix-20230306_2.csvWarning: non-fatal error reading adaptation data\\n, /Users/henryqu/Documents/GitHub/ntep-rsm/model_output/param_recover/no_consistent_rater_model_dist_matrix-20230306_3.csvWarning: non-fatal error reading adaptation data\\n, /Users/henryqu/Documents/GitHub/ntep-rsm/model_output/param_recover/no_consistent_rater_model_dist_matrix-20230306_4.csvWarning: non-fatal error reading adaptation data\\n\\n\\nChecking sampler transitions treedepth.\\nTreedepth satisfactory for all transitions.\\n\\nChecking sampler transitions for divergences.\\nNo divergent transitions found.\\n\\nChecking E-BFMI - sampler transitions HMC potential energy.\\nE-BFMI satisfactory.\\n\\nEffective sample size satisfactory.\\n\\nSplit R-hat values satisfactory all parameters.\\n\\nProcessing complete, no problems detected.\\n'"
      ]
     },
     "execution_count": 37,
     "metadata": {},
     "output_type": "execute_result"
    }
   ],
   "source": [
    "fit.diagnose()"
   ]
  },
  {
   "cell_type": "code",
   "execution_count": 51,
   "id": "b4e080d3",
   "metadata": {},
   "outputs": [
    {
     "data": {
      "text/plain": [
       "1.0"
      ]
     },
     "execution_count": 51,
     "metadata": {},
     "output_type": "execute_result"
    }
   ],
   "source": [
    "sum_data = fit.summary()\n",
    "# max of Rhat value\n",
    "sum_data['R_hat'].max()"
   ]
  },
  {
   "cell_type": "code",
   "execution_count": 59,
   "id": "bf848730",
   "metadata": {},
   "outputs": [
    {
     "data": {
      "text/html": [
       "<div>\n",
       "<style scoped>\n",
       "    .dataframe tbody tr th:only-of-type {\n",
       "        vertical-align: middle;\n",
       "    }\n",
       "\n",
       "    .dataframe tbody tr th {\n",
       "        vertical-align: top;\n",
       "    }\n",
       "\n",
       "    .dataframe thead th {\n",
       "        text-align: right;\n",
       "    }\n",
       "</style>\n",
       "<table border=\"1\" class=\"dataframe\">\n",
       "  <thead>\n",
       "    <tr style=\"text-align: right;\">\n",
       "      <th></th>\n",
       "      <th>Mean</th>\n",
       "      <th>MCSE</th>\n",
       "      <th>StdDev</th>\n",
       "      <th>5%</th>\n",
       "      <th>50%</th>\n",
       "      <th>95%</th>\n",
       "      <th>N_Eff</th>\n",
       "      <th>N_Eff/s</th>\n",
       "      <th>R_hat</th>\n",
       "    </tr>\n",
       "    <tr>\n",
       "      <th>name</th>\n",
       "      <th></th>\n",
       "      <th></th>\n",
       "      <th></th>\n",
       "      <th></th>\n",
       "      <th></th>\n",
       "      <th></th>\n",
       "      <th></th>\n",
       "      <th></th>\n",
       "      <th></th>\n",
       "    </tr>\n",
       "  </thead>\n",
       "  <tbody>\n",
       "    <tr>\n",
       "      <th>lp__</th>\n",
       "      <td>-3000.00000</td>\n",
       "      <td>0.21000</td>\n",
       "      <td>6.400</td>\n",
       "      <td>-3000.000</td>\n",
       "      <td>-3000.00000</td>\n",
       "      <td>-3000.000</td>\n",
       "      <td>900.0</td>\n",
       "      <td>0.61</td>\n",
       "      <td>1.0</td>\n",
       "    </tr>\n",
       "    <tr>\n",
       "      <th>beta_free[1]</th>\n",
       "      <td>-0.79000</td>\n",
       "      <td>0.00058</td>\n",
       "      <td>0.040</td>\n",
       "      <td>-0.850</td>\n",
       "      <td>-0.79000</td>\n",
       "      <td>-0.720</td>\n",
       "      <td>4887.0</td>\n",
       "      <td>3.30</td>\n",
       "      <td>1.0</td>\n",
       "    </tr>\n",
       "    <tr>\n",
       "      <th>beta_free[2]</th>\n",
       "      <td>-0.32000</td>\n",
       "      <td>0.00054</td>\n",
       "      <td>0.042</td>\n",
       "      <td>-0.390</td>\n",
       "      <td>-0.32000</td>\n",
       "      <td>-0.250</td>\n",
       "      <td>5961.0</td>\n",
       "      <td>4.10</td>\n",
       "      <td>1.0</td>\n",
       "    </tr>\n",
       "    <tr>\n",
       "      <th>beta_free[3]</th>\n",
       "      <td>0.00045</td>\n",
       "      <td>0.00049</td>\n",
       "      <td>0.038</td>\n",
       "      <td>-0.064</td>\n",
       "      <td>-0.00023</td>\n",
       "      <td>0.064</td>\n",
       "      <td>6216.0</td>\n",
       "      <td>4.20</td>\n",
       "      <td>1.0</td>\n",
       "    </tr>\n",
       "    <tr>\n",
       "      <th>beta_free[4]</th>\n",
       "      <td>0.34000</td>\n",
       "      <td>0.00056</td>\n",
       "      <td>0.039</td>\n",
       "      <td>0.280</td>\n",
       "      <td>0.34000</td>\n",
       "      <td>0.410</td>\n",
       "      <td>4797.0</td>\n",
       "      <td>3.30</td>\n",
       "      <td>1.0</td>\n",
       "    </tr>\n",
       "  </tbody>\n",
       "</table>\n",
       "</div>"
      ],
      "text/plain": [
       "                    Mean     MCSE  StdDev        5%         50%       95%  \\\n",
       "name                                                                        \n",
       "lp__         -3000.00000  0.21000   6.400 -3000.000 -3000.00000 -3000.000   \n",
       "beta_free[1]    -0.79000  0.00058   0.040    -0.850    -0.79000    -0.720   \n",
       "beta_free[2]    -0.32000  0.00054   0.042    -0.390    -0.32000    -0.250   \n",
       "beta_free[3]     0.00045  0.00049   0.038    -0.064    -0.00023     0.064   \n",
       "beta_free[4]     0.34000  0.00056   0.039     0.280     0.34000     0.410   \n",
       "\n",
       "               N_Eff  N_Eff/s  R_hat  \n",
       "name                                  \n",
       "lp__           900.0     0.61    1.0  \n",
       "beta_free[1]  4887.0     3.30    1.0  \n",
       "beta_free[2]  5961.0     4.10    1.0  \n",
       "beta_free[3]  6216.0     4.20    1.0  \n",
       "beta_free[4]  4797.0     3.30    1.0  "
      ]
     },
     "execution_count": 59,
     "metadata": {},
     "output_type": "execute_result"
    }
   ],
   "source": [
    "sum_data.head()"
   ]
  },
  {
   "cell_type": "code",
   "execution_count": 52,
   "id": "37019367",
   "metadata": {},
   "outputs": [],
   "source": [
    "param_est = fit.summary([2.5, 97.5])\n",
    "masks = [ix for ix in param_est.index if any(p in ix for p in ['beta', 'tau', 'plot', 'sigma']) \n",
    "         and 'free' not in ix]\n",
    "param_est = param_est.loc[masks, ['Mean', '2.5%', '97.5%']]\n",
    "param_gen=np.hstack((sigma, sigma_e, beta, taus, layout.PLOC_EFF.values))\n",
    "discrepency = param_est.subtract(param_gen, axis=0)\n",
    "discrepency['error_minus'] = discrepency.Mean - discrepency['2.5%']\n",
    "discrepency['error_plus'] = discrepency['97.5%'] - discrepency.Mean"
   ]
  },
  {
   "cell_type": "code",
   "execution_count": 57,
   "id": "56e6e01e",
   "metadata": {},
   "outputs": [],
   "source": [
    "discrepency.to_csv('./model_output/dataframes/parameter_discrepency.csv')"
   ]
  },
  {
   "cell_type": "code",
   "execution_count": 54,
   "id": "00ecf15f",
   "metadata": {},
   "outputs": [
    {
     "data": {
      "application/vnd.plotly.v1+json": {
       "config": {
        "plotlyServerURL": "https://plot.ly"
       },
       "data": [
        {
         "error_x": {
          "array": [
           0.5,
           0.2,
           0.08000000000000007,
           0.08000000000000002,
           0.07254999999999999,
           0.07999999999999996,
           0.08999999999999997,
           0.30000000000000004,
           0.30000000000000004,
           0.16999999999999993,
           0.16,
           0.16000000000000003,
           0.17999999999999994,
           0.19999999999999996,
           0.30000000000000027,
           0.495,
           0.48,
           0.4600000000000001,
           0.49,
           0.5,
           0.45999999999999996,
           0.47000000000000003,
           0.49999999999999994,
           0.493,
           0.5,
           0.47800000000000004,
           0.48300000000000004,
           0.5000000000000001,
           0.48,
           0.475,
           0.5,
           0.48400000000000004,
           0.5299999999999999,
           0.5020000000000001,
           0.45,
           0.478,
           0.47,
           0.497,
           0.48999999999999994,
           0.48500000000000004,
           0.44199999999999995,
           0.47000000000000003,
           0.44999999999999996,
           0.4850000000000001,
           0.43899999999999995
          ],
          "arrayminus": [
           0.29999999999999993,
           0.3,
           0.07999999999999996,
           0.08999999999999997,
           0.07845,
           0.07,
           0.08999999999999997,
           0.30000000000000004,
           0.19999999999999996,
           0.20000000000000007,
           0.19,
           0.176,
           0.20000000000000007,
           0.30000000000000004,
           0.2999999999999998,
           0.63,
           0.5,
           0.5,
           0.58,
           0.59,
           0.52,
           0.49999999999999994,
           0.5700000000000001,
           0.537,
           0.5800000000000001,
           0.502,
           0.5070000000000001,
           0.5559999999999999,
           0.4902,
           0.595,
           0.5599999999999999,
           0.516,
           0.5299999999999999,
           0.5479999999999999,
           0.51,
           0.512,
           0.51,
           0.543,
           0.52,
           0.56,
           0.518,
           0.52,
           0.55,
           0.505,
           0.521
          ]
         },
         "hovertemplate": "Estimated Values - Original Values=%{x}<br>Parameters=%{y}<extra></extra>",
         "legendgroup": "",
         "marker": {
          "color": "#1F77B4",
          "symbol": "circle"
         },
         "mode": "markers",
         "name": "",
         "orientation": "h",
         "showlegend": false,
         "type": "scatter",
         "x": [
          0,
          0.09999999999999998,
          0.010000000000000009,
          0.08000000000000002,
          0.00045,
          -0.06000000000000011,
          -0.040000000000000036,
          0.19999999999999996,
          -0.0714285714285714,
          0.12714285714285722,
          -0.02428571428571419,
          -0.045714285714285596,
          -0.04714285714285671,
          -0.12857142857142834,
          -0.10000000000000009,
          0.3557115142139069,
          0.30161756758669755,
          0.07626607745965455,
          0.40119067781827833,
          0.4139998138100841,
          0.30434986397831565,
          -0.0024370041639035223,
          0.40582148274667235,
          0.25104020930273274,
          0.5721531473684842,
          0.15442819316929007,
          -0.24078825734049808,
          -0.031122906147431184,
          0.07471316704803821,
          0.3068182473087243,
          -0.11830904678707432,
          0.3227445146561643,
          -0.572893768973178,
          0.11116622644818422,
          -0.005229090461772348,
          0.20382879251026098,
          0.2116143464022875,
          0.27543865975704807,
          -0.08244016534236315,
          -0.2418206185488554,
          0.6194392840266902,
          0.23913662769569638,
          0.694108635661222,
          0.16940260857304315,
          0.36772348609657246
         ],
         "xaxis": "x",
         "y": [
          "sigma",
          "sigma_e",
          "beta[1]",
          "beta[2]",
          "beta[3]",
          "beta[4]",
          "beta[5]",
          "tau[1]",
          "tau[2]",
          "tau[3]",
          "tau[4]",
          "tau[5]",
          "tau[6]",
          "tau[7]",
          "tau[8]",
          "plot[1]",
          "plot[2]",
          "plot[3]",
          "plot[4]",
          "plot[5]",
          "plot[6]",
          "plot[7]",
          "plot[8]",
          "plot[9]",
          "plot[10]",
          "plot[11]",
          "plot[12]",
          "plot[13]",
          "plot[14]",
          "plot[15]",
          "plot[16]",
          "plot[17]",
          "plot[18]",
          "plot[19]",
          "plot[20]",
          "plot[21]",
          "plot[22]",
          "plot[23]",
          "plot[24]",
          "plot[25]",
          "plot[26]",
          "plot[27]",
          "plot[28]",
          "plot[29]",
          "plot[30]"
         ],
         "yaxis": "y"
        }
       ],
       "layout": {
        "height": 1000,
        "legend": {
         "tracegroupgap": 0
        },
        "margin": {
         "t": 60
        },
        "shapes": [
         {
          "line": {
           "dash": "dash",
           "width": 3
          },
          "type": "line",
          "x0": 0,
          "x1": 0,
          "xref": "x",
          "y0": 0,
          "y1": 1,
          "yref": "y domain"
         }
        ],
        "template": {
         "data": {
          "bar": [
           {
            "error_x": {
             "color": "rgb(36,36,36)"
            },
            "error_y": {
             "color": "rgb(36,36,36)"
            },
            "marker": {
             "line": {
              "color": "white",
              "width": 0.5
             },
             "pattern": {
              "fillmode": "overlay",
              "size": 10,
              "solidity": 0.2
             }
            },
            "type": "bar"
           }
          ],
          "barpolar": [
           {
            "marker": {
             "line": {
              "color": "white",
              "width": 0.5
             },
             "pattern": {
              "fillmode": "overlay",
              "size": 10,
              "solidity": 0.2
             }
            },
            "type": "barpolar"
           }
          ],
          "carpet": [
           {
            "aaxis": {
             "endlinecolor": "rgb(36,36,36)",
             "gridcolor": "white",
             "linecolor": "white",
             "minorgridcolor": "white",
             "startlinecolor": "rgb(36,36,36)"
            },
            "baxis": {
             "endlinecolor": "rgb(36,36,36)",
             "gridcolor": "white",
             "linecolor": "white",
             "minorgridcolor": "white",
             "startlinecolor": "rgb(36,36,36)"
            },
            "type": "carpet"
           }
          ],
          "choropleth": [
           {
            "colorbar": {
             "outlinewidth": 1,
             "tickcolor": "rgb(36,36,36)",
             "ticks": "outside"
            },
            "type": "choropleth"
           }
          ],
          "contour": [
           {
            "colorbar": {
             "outlinewidth": 1,
             "tickcolor": "rgb(36,36,36)",
             "ticks": "outside"
            },
            "colorscale": [
             [
              0,
              "#440154"
             ],
             [
              0.1111111111111111,
              "#482878"
             ],
             [
              0.2222222222222222,
              "#3e4989"
             ],
             [
              0.3333333333333333,
              "#31688e"
             ],
             [
              0.4444444444444444,
              "#26828e"
             ],
             [
              0.5555555555555556,
              "#1f9e89"
             ],
             [
              0.6666666666666666,
              "#35b779"
             ],
             [
              0.7777777777777778,
              "#6ece58"
             ],
             [
              0.8888888888888888,
              "#b5de2b"
             ],
             [
              1,
              "#fde725"
             ]
            ],
            "type": "contour"
           }
          ],
          "contourcarpet": [
           {
            "colorbar": {
             "outlinewidth": 1,
             "tickcolor": "rgb(36,36,36)",
             "ticks": "outside"
            },
            "type": "contourcarpet"
           }
          ],
          "heatmap": [
           {
            "colorbar": {
             "outlinewidth": 1,
             "tickcolor": "rgb(36,36,36)",
             "ticks": "outside"
            },
            "colorscale": [
             [
              0,
              "#440154"
             ],
             [
              0.1111111111111111,
              "#482878"
             ],
             [
              0.2222222222222222,
              "#3e4989"
             ],
             [
              0.3333333333333333,
              "#31688e"
             ],
             [
              0.4444444444444444,
              "#26828e"
             ],
             [
              0.5555555555555556,
              "#1f9e89"
             ],
             [
              0.6666666666666666,
              "#35b779"
             ],
             [
              0.7777777777777778,
              "#6ece58"
             ],
             [
              0.8888888888888888,
              "#b5de2b"
             ],
             [
              1,
              "#fde725"
             ]
            ],
            "type": "heatmap"
           }
          ],
          "heatmapgl": [
           {
            "colorbar": {
             "outlinewidth": 1,
             "tickcolor": "rgb(36,36,36)",
             "ticks": "outside"
            },
            "colorscale": [
             [
              0,
              "#440154"
             ],
             [
              0.1111111111111111,
              "#482878"
             ],
             [
              0.2222222222222222,
              "#3e4989"
             ],
             [
              0.3333333333333333,
              "#31688e"
             ],
             [
              0.4444444444444444,
              "#26828e"
             ],
             [
              0.5555555555555556,
              "#1f9e89"
             ],
             [
              0.6666666666666666,
              "#35b779"
             ],
             [
              0.7777777777777778,
              "#6ece58"
             ],
             [
              0.8888888888888888,
              "#b5de2b"
             ],
             [
              1,
              "#fde725"
             ]
            ],
            "type": "heatmapgl"
           }
          ],
          "histogram": [
           {
            "marker": {
             "line": {
              "color": "white",
              "width": 0.6
             }
            },
            "type": "histogram"
           }
          ],
          "histogram2d": [
           {
            "colorbar": {
             "outlinewidth": 1,
             "tickcolor": "rgb(36,36,36)",
             "ticks": "outside"
            },
            "colorscale": [
             [
              0,
              "#440154"
             ],
             [
              0.1111111111111111,
              "#482878"
             ],
             [
              0.2222222222222222,
              "#3e4989"
             ],
             [
              0.3333333333333333,
              "#31688e"
             ],
             [
              0.4444444444444444,
              "#26828e"
             ],
             [
              0.5555555555555556,
              "#1f9e89"
             ],
             [
              0.6666666666666666,
              "#35b779"
             ],
             [
              0.7777777777777778,
              "#6ece58"
             ],
             [
              0.8888888888888888,
              "#b5de2b"
             ],
             [
              1,
              "#fde725"
             ]
            ],
            "type": "histogram2d"
           }
          ],
          "histogram2dcontour": [
           {
            "colorbar": {
             "outlinewidth": 1,
             "tickcolor": "rgb(36,36,36)",
             "ticks": "outside"
            },
            "colorscale": [
             [
              0,
              "#440154"
             ],
             [
              0.1111111111111111,
              "#482878"
             ],
             [
              0.2222222222222222,
              "#3e4989"
             ],
             [
              0.3333333333333333,
              "#31688e"
             ],
             [
              0.4444444444444444,
              "#26828e"
             ],
             [
              0.5555555555555556,
              "#1f9e89"
             ],
             [
              0.6666666666666666,
              "#35b779"
             ],
             [
              0.7777777777777778,
              "#6ece58"
             ],
             [
              0.8888888888888888,
              "#b5de2b"
             ],
             [
              1,
              "#fde725"
             ]
            ],
            "type": "histogram2dcontour"
           }
          ],
          "mesh3d": [
           {
            "colorbar": {
             "outlinewidth": 1,
             "tickcolor": "rgb(36,36,36)",
             "ticks": "outside"
            },
            "type": "mesh3d"
           }
          ],
          "parcoords": [
           {
            "line": {
             "colorbar": {
              "outlinewidth": 1,
              "tickcolor": "rgb(36,36,36)",
              "ticks": "outside"
             }
            },
            "type": "parcoords"
           }
          ],
          "pie": [
           {
            "automargin": true,
            "type": "pie"
           }
          ],
          "scatter": [
           {
            "fillpattern": {
             "fillmode": "overlay",
             "size": 10,
             "solidity": 0.2
            },
            "type": "scatter"
           }
          ],
          "scatter3d": [
           {
            "line": {
             "colorbar": {
              "outlinewidth": 1,
              "tickcolor": "rgb(36,36,36)",
              "ticks": "outside"
             }
            },
            "marker": {
             "colorbar": {
              "outlinewidth": 1,
              "tickcolor": "rgb(36,36,36)",
              "ticks": "outside"
             }
            },
            "type": "scatter3d"
           }
          ],
          "scattercarpet": [
           {
            "marker": {
             "colorbar": {
              "outlinewidth": 1,
              "tickcolor": "rgb(36,36,36)",
              "ticks": "outside"
             }
            },
            "type": "scattercarpet"
           }
          ],
          "scattergeo": [
           {
            "marker": {
             "colorbar": {
              "outlinewidth": 1,
              "tickcolor": "rgb(36,36,36)",
              "ticks": "outside"
             }
            },
            "type": "scattergeo"
           }
          ],
          "scattergl": [
           {
            "marker": {
             "colorbar": {
              "outlinewidth": 1,
              "tickcolor": "rgb(36,36,36)",
              "ticks": "outside"
             }
            },
            "type": "scattergl"
           }
          ],
          "scattermapbox": [
           {
            "marker": {
             "colorbar": {
              "outlinewidth": 1,
              "tickcolor": "rgb(36,36,36)",
              "ticks": "outside"
             }
            },
            "type": "scattermapbox"
           }
          ],
          "scatterpolar": [
           {
            "marker": {
             "colorbar": {
              "outlinewidth": 1,
              "tickcolor": "rgb(36,36,36)",
              "ticks": "outside"
             }
            },
            "type": "scatterpolar"
           }
          ],
          "scatterpolargl": [
           {
            "marker": {
             "colorbar": {
              "outlinewidth": 1,
              "tickcolor": "rgb(36,36,36)",
              "ticks": "outside"
             }
            },
            "type": "scatterpolargl"
           }
          ],
          "scatterternary": [
           {
            "marker": {
             "colorbar": {
              "outlinewidth": 1,
              "tickcolor": "rgb(36,36,36)",
              "ticks": "outside"
             }
            },
            "type": "scatterternary"
           }
          ],
          "surface": [
           {
            "colorbar": {
             "outlinewidth": 1,
             "tickcolor": "rgb(36,36,36)",
             "ticks": "outside"
            },
            "colorscale": [
             [
              0,
              "#440154"
             ],
             [
              0.1111111111111111,
              "#482878"
             ],
             [
              0.2222222222222222,
              "#3e4989"
             ],
             [
              0.3333333333333333,
              "#31688e"
             ],
             [
              0.4444444444444444,
              "#26828e"
             ],
             [
              0.5555555555555556,
              "#1f9e89"
             ],
             [
              0.6666666666666666,
              "#35b779"
             ],
             [
              0.7777777777777778,
              "#6ece58"
             ],
             [
              0.8888888888888888,
              "#b5de2b"
             ],
             [
              1,
              "#fde725"
             ]
            ],
            "type": "surface"
           }
          ],
          "table": [
           {
            "cells": {
             "fill": {
              "color": "rgb(237,237,237)"
             },
             "line": {
              "color": "white"
             }
            },
            "header": {
             "fill": {
              "color": "rgb(217,217,217)"
             },
             "line": {
              "color": "white"
             }
            },
            "type": "table"
           }
          ]
         },
         "layout": {
          "annotationdefaults": {
           "arrowhead": 0,
           "arrowwidth": 1
          },
          "autotypenumbers": "strict",
          "coloraxis": {
           "colorbar": {
            "outlinewidth": 1,
            "tickcolor": "rgb(36,36,36)",
            "ticks": "outside"
           }
          },
          "colorscale": {
           "diverging": [
            [
             0,
             "rgb(103,0,31)"
            ],
            [
             0.1,
             "rgb(178,24,43)"
            ],
            [
             0.2,
             "rgb(214,96,77)"
            ],
            [
             0.3,
             "rgb(244,165,130)"
            ],
            [
             0.4,
             "rgb(253,219,199)"
            ],
            [
             0.5,
             "rgb(247,247,247)"
            ],
            [
             0.6,
             "rgb(209,229,240)"
            ],
            [
             0.7,
             "rgb(146,197,222)"
            ],
            [
             0.8,
             "rgb(67,147,195)"
            ],
            [
             0.9,
             "rgb(33,102,172)"
            ],
            [
             1,
             "rgb(5,48,97)"
            ]
           ],
           "sequential": [
            [
             0,
             "#440154"
            ],
            [
             0.1111111111111111,
             "#482878"
            ],
            [
             0.2222222222222222,
             "#3e4989"
            ],
            [
             0.3333333333333333,
             "#31688e"
            ],
            [
             0.4444444444444444,
             "#26828e"
            ],
            [
             0.5555555555555556,
             "#1f9e89"
            ],
            [
             0.6666666666666666,
             "#35b779"
            ],
            [
             0.7777777777777778,
             "#6ece58"
            ],
            [
             0.8888888888888888,
             "#b5de2b"
            ],
            [
             1,
             "#fde725"
            ]
           ],
           "sequentialminus": [
            [
             0,
             "#440154"
            ],
            [
             0.1111111111111111,
             "#482878"
            ],
            [
             0.2222222222222222,
             "#3e4989"
            ],
            [
             0.3333333333333333,
             "#31688e"
            ],
            [
             0.4444444444444444,
             "#26828e"
            ],
            [
             0.5555555555555556,
             "#1f9e89"
            ],
            [
             0.6666666666666666,
             "#35b779"
            ],
            [
             0.7777777777777778,
             "#6ece58"
            ],
            [
             0.8888888888888888,
             "#b5de2b"
            ],
            [
             1,
             "#fde725"
            ]
           ]
          },
          "colorway": [
           "#1F77B4",
           "#FF7F0E",
           "#2CA02C",
           "#D62728",
           "#9467BD",
           "#8C564B",
           "#E377C2",
           "#7F7F7F",
           "#BCBD22",
           "#17BECF"
          ],
          "font": {
           "color": "rgb(36,36,36)"
          },
          "geo": {
           "bgcolor": "white",
           "lakecolor": "white",
           "landcolor": "white",
           "showlakes": true,
           "showland": true,
           "subunitcolor": "white"
          },
          "hoverlabel": {
           "align": "left"
          },
          "hovermode": "closest",
          "mapbox": {
           "style": "light"
          },
          "paper_bgcolor": "white",
          "plot_bgcolor": "white",
          "polar": {
           "angularaxis": {
            "gridcolor": "rgb(232,232,232)",
            "linecolor": "rgb(36,36,36)",
            "showgrid": false,
            "showline": true,
            "ticks": "outside"
           },
           "bgcolor": "white",
           "radialaxis": {
            "gridcolor": "rgb(232,232,232)",
            "linecolor": "rgb(36,36,36)",
            "showgrid": false,
            "showline": true,
            "ticks": "outside"
           }
          },
          "scene": {
           "xaxis": {
            "backgroundcolor": "white",
            "gridcolor": "rgb(232,232,232)",
            "gridwidth": 2,
            "linecolor": "rgb(36,36,36)",
            "showbackground": true,
            "showgrid": false,
            "showline": true,
            "ticks": "outside",
            "zeroline": false,
            "zerolinecolor": "rgb(36,36,36)"
           },
           "yaxis": {
            "backgroundcolor": "white",
            "gridcolor": "rgb(232,232,232)",
            "gridwidth": 2,
            "linecolor": "rgb(36,36,36)",
            "showbackground": true,
            "showgrid": false,
            "showline": true,
            "ticks": "outside",
            "zeroline": false,
            "zerolinecolor": "rgb(36,36,36)"
           },
           "zaxis": {
            "backgroundcolor": "white",
            "gridcolor": "rgb(232,232,232)",
            "gridwidth": 2,
            "linecolor": "rgb(36,36,36)",
            "showbackground": true,
            "showgrid": false,
            "showline": true,
            "ticks": "outside",
            "zeroline": false,
            "zerolinecolor": "rgb(36,36,36)"
           }
          },
          "shapedefaults": {
           "fillcolor": "black",
           "line": {
            "width": 0
           },
           "opacity": 0.3
          },
          "ternary": {
           "aaxis": {
            "gridcolor": "rgb(232,232,232)",
            "linecolor": "rgb(36,36,36)",
            "showgrid": false,
            "showline": true,
            "ticks": "outside"
           },
           "baxis": {
            "gridcolor": "rgb(232,232,232)",
            "linecolor": "rgb(36,36,36)",
            "showgrid": false,
            "showline": true,
            "ticks": "outside"
           },
           "bgcolor": "white",
           "caxis": {
            "gridcolor": "rgb(232,232,232)",
            "linecolor": "rgb(36,36,36)",
            "showgrid": false,
            "showline": true,
            "ticks": "outside"
           }
          },
          "title": {
           "x": 0.05
          },
          "xaxis": {
           "automargin": true,
           "gridcolor": "rgb(232,232,232)",
           "linecolor": "rgb(36,36,36)",
           "showgrid": false,
           "showline": true,
           "ticks": "outside",
           "title": {
            "standoff": 15
           },
           "zeroline": false,
           "zerolinecolor": "rgb(36,36,36)"
          },
          "yaxis": {
           "automargin": true,
           "gridcolor": "rgb(232,232,232)",
           "linecolor": "rgb(36,36,36)",
           "showgrid": false,
           "showline": true,
           "ticks": "outside",
           "title": {
            "standoff": 15
           },
           "zeroline": false,
           "zerolinecolor": "rgb(36,36,36)"
          }
         }
        },
        "xaxis": {
         "anchor": "y",
         "domain": [
          0,
          1
         ],
         "title": {
          "text": "Estimated Values - Original Values"
         }
        },
        "yaxis": {
         "anchor": "x",
         "domain": [
          0,
          1
         ],
         "title": {
          "text": "Parameters"
         }
        }
       }
      },
      "text/html": [
       "<div>                            <div id=\"50e93208-0d2b-461b-9720-f157b66b6c4e\" class=\"plotly-graph-div\" style=\"height:1000px; width:100%;\"></div>            <script type=\"text/javascript\">                require([\"plotly\"], function(Plotly) {                    window.PLOTLYENV=window.PLOTLYENV || {};                                    if (document.getElementById(\"50e93208-0d2b-461b-9720-f157b66b6c4e\")) {                    Plotly.newPlot(                        \"50e93208-0d2b-461b-9720-f157b66b6c4e\",                        [{\"error_x\":{\"array\":[0.5,0.2,0.08000000000000007,0.08000000000000002,0.07254999999999999,0.07999999999999996,0.08999999999999997,0.30000000000000004,0.30000000000000004,0.16999999999999993,0.16,0.16000000000000003,0.17999999999999994,0.19999999999999996,0.30000000000000027,0.495,0.48,0.4600000000000001,0.49,0.5,0.45999999999999996,0.47000000000000003,0.49999999999999994,0.493,0.5,0.47800000000000004,0.48300000000000004,0.5000000000000001,0.48,0.475,0.5,0.48400000000000004,0.5299999999999999,0.5020000000000001,0.45,0.478,0.47,0.497,0.48999999999999994,0.48500000000000004,0.44199999999999995,0.47000000000000003,0.44999999999999996,0.4850000000000001,0.43899999999999995],\"arrayminus\":[0.29999999999999993,0.3,0.07999999999999996,0.08999999999999997,0.07845,0.07,0.08999999999999997,0.30000000000000004,0.19999999999999996,0.20000000000000007,0.19,0.176,0.20000000000000007,0.30000000000000004,0.2999999999999998,0.63,0.5,0.5,0.58,0.59,0.52,0.49999999999999994,0.5700000000000001,0.537,0.5800000000000001,0.502,0.5070000000000001,0.5559999999999999,0.4902,0.595,0.5599999999999999,0.516,0.5299999999999999,0.5479999999999999,0.51,0.512,0.51,0.543,0.52,0.56,0.518,0.52,0.55,0.505,0.521]},\"hovertemplate\":\"Estimated Values - Original Values=%{x}<br>Parameters=%{y}<extra></extra>\",\"legendgroup\":\"\",\"marker\":{\"color\":\"#1F77B4\",\"symbol\":\"circle\"},\"mode\":\"markers\",\"name\":\"\",\"orientation\":\"h\",\"showlegend\":false,\"x\":[0.0,0.09999999999999998,0.010000000000000009,0.08000000000000002,0.00045,-0.06000000000000011,-0.040000000000000036,0.19999999999999996,-0.0714285714285714,0.12714285714285722,-0.02428571428571419,-0.045714285714285596,-0.04714285714285671,-0.12857142857142834,-0.10000000000000009,0.3557115142139069,0.30161756758669755,0.07626607745965455,0.40119067781827833,0.4139998138100841,0.30434986397831565,-0.0024370041639035223,0.40582148274667235,0.25104020930273274,0.5721531473684842,0.15442819316929007,-0.24078825734049808,-0.031122906147431184,0.07471316704803821,0.3068182473087243,-0.11830904678707432,0.3227445146561643,-0.572893768973178,0.11116622644818422,-0.005229090461772348,0.20382879251026098,0.2116143464022875,0.27543865975704807,-0.08244016534236315,-0.2418206185488554,0.6194392840266902,0.23913662769569638,0.694108635661222,0.16940260857304315,0.36772348609657246],\"xaxis\":\"x\",\"y\":[\"sigma\",\"sigma_e\",\"beta[1]\",\"beta[2]\",\"beta[3]\",\"beta[4]\",\"beta[5]\",\"tau[1]\",\"tau[2]\",\"tau[3]\",\"tau[4]\",\"tau[5]\",\"tau[6]\",\"tau[7]\",\"tau[8]\",\"plot[1]\",\"plot[2]\",\"plot[3]\",\"plot[4]\",\"plot[5]\",\"plot[6]\",\"plot[7]\",\"plot[8]\",\"plot[9]\",\"plot[10]\",\"plot[11]\",\"plot[12]\",\"plot[13]\",\"plot[14]\",\"plot[15]\",\"plot[16]\",\"plot[17]\",\"plot[18]\",\"plot[19]\",\"plot[20]\",\"plot[21]\",\"plot[22]\",\"plot[23]\",\"plot[24]\",\"plot[25]\",\"plot[26]\",\"plot[27]\",\"plot[28]\",\"plot[29]\",\"plot[30]\"],\"yaxis\":\"y\",\"type\":\"scatter\"}],                        {\"template\":{\"data\":{\"histogram2dcontour\":[{\"type\":\"histogram2dcontour\",\"colorbar\":{\"outlinewidth\":1,\"tickcolor\":\"rgb(36,36,36)\",\"ticks\":\"outside\"},\"colorscale\":[[0.0,\"#440154\"],[0.1111111111111111,\"#482878\"],[0.2222222222222222,\"#3e4989\"],[0.3333333333333333,\"#31688e\"],[0.4444444444444444,\"#26828e\"],[0.5555555555555556,\"#1f9e89\"],[0.6666666666666666,\"#35b779\"],[0.7777777777777778,\"#6ece58\"],[0.8888888888888888,\"#b5de2b\"],[1.0,\"#fde725\"]]}],\"choropleth\":[{\"type\":\"choropleth\",\"colorbar\":{\"outlinewidth\":1,\"tickcolor\":\"rgb(36,36,36)\",\"ticks\":\"outside\"}}],\"histogram2d\":[{\"type\":\"histogram2d\",\"colorbar\":{\"outlinewidth\":1,\"tickcolor\":\"rgb(36,36,36)\",\"ticks\":\"outside\"},\"colorscale\":[[0.0,\"#440154\"],[0.1111111111111111,\"#482878\"],[0.2222222222222222,\"#3e4989\"],[0.3333333333333333,\"#31688e\"],[0.4444444444444444,\"#26828e\"],[0.5555555555555556,\"#1f9e89\"],[0.6666666666666666,\"#35b779\"],[0.7777777777777778,\"#6ece58\"],[0.8888888888888888,\"#b5de2b\"],[1.0,\"#fde725\"]]}],\"heatmap\":[{\"type\":\"heatmap\",\"colorbar\":{\"outlinewidth\":1,\"tickcolor\":\"rgb(36,36,36)\",\"ticks\":\"outside\"},\"colorscale\":[[0.0,\"#440154\"],[0.1111111111111111,\"#482878\"],[0.2222222222222222,\"#3e4989\"],[0.3333333333333333,\"#31688e\"],[0.4444444444444444,\"#26828e\"],[0.5555555555555556,\"#1f9e89\"],[0.6666666666666666,\"#35b779\"],[0.7777777777777778,\"#6ece58\"],[0.8888888888888888,\"#b5de2b\"],[1.0,\"#fde725\"]]}],\"heatmapgl\":[{\"type\":\"heatmapgl\",\"colorbar\":{\"outlinewidth\":1,\"tickcolor\":\"rgb(36,36,36)\",\"ticks\":\"outside\"},\"colorscale\":[[0.0,\"#440154\"],[0.1111111111111111,\"#482878\"],[0.2222222222222222,\"#3e4989\"],[0.3333333333333333,\"#31688e\"],[0.4444444444444444,\"#26828e\"],[0.5555555555555556,\"#1f9e89\"],[0.6666666666666666,\"#35b779\"],[0.7777777777777778,\"#6ece58\"],[0.8888888888888888,\"#b5de2b\"],[1.0,\"#fde725\"]]}],\"contourcarpet\":[{\"type\":\"contourcarpet\",\"colorbar\":{\"outlinewidth\":1,\"tickcolor\":\"rgb(36,36,36)\",\"ticks\":\"outside\"}}],\"contour\":[{\"type\":\"contour\",\"colorbar\":{\"outlinewidth\":1,\"tickcolor\":\"rgb(36,36,36)\",\"ticks\":\"outside\"},\"colorscale\":[[0.0,\"#440154\"],[0.1111111111111111,\"#482878\"],[0.2222222222222222,\"#3e4989\"],[0.3333333333333333,\"#31688e\"],[0.4444444444444444,\"#26828e\"],[0.5555555555555556,\"#1f9e89\"],[0.6666666666666666,\"#35b779\"],[0.7777777777777778,\"#6ece58\"],[0.8888888888888888,\"#b5de2b\"],[1.0,\"#fde725\"]]}],\"surface\":[{\"type\":\"surface\",\"colorbar\":{\"outlinewidth\":1,\"tickcolor\":\"rgb(36,36,36)\",\"ticks\":\"outside\"},\"colorscale\":[[0.0,\"#440154\"],[0.1111111111111111,\"#482878\"],[0.2222222222222222,\"#3e4989\"],[0.3333333333333333,\"#31688e\"],[0.4444444444444444,\"#26828e\"],[0.5555555555555556,\"#1f9e89\"],[0.6666666666666666,\"#35b779\"],[0.7777777777777778,\"#6ece58\"],[0.8888888888888888,\"#b5de2b\"],[1.0,\"#fde725\"]]}],\"mesh3d\":[{\"type\":\"mesh3d\",\"colorbar\":{\"outlinewidth\":1,\"tickcolor\":\"rgb(36,36,36)\",\"ticks\":\"outside\"}}],\"scatter\":[{\"fillpattern\":{\"fillmode\":\"overlay\",\"size\":10,\"solidity\":0.2},\"type\":\"scatter\"}],\"parcoords\":[{\"type\":\"parcoords\",\"line\":{\"colorbar\":{\"outlinewidth\":1,\"tickcolor\":\"rgb(36,36,36)\",\"ticks\":\"outside\"}}}],\"scatterpolargl\":[{\"type\":\"scatterpolargl\",\"marker\":{\"colorbar\":{\"outlinewidth\":1,\"tickcolor\":\"rgb(36,36,36)\",\"ticks\":\"outside\"}}}],\"bar\":[{\"error_x\":{\"color\":\"rgb(36,36,36)\"},\"error_y\":{\"color\":\"rgb(36,36,36)\"},\"marker\":{\"line\":{\"color\":\"white\",\"width\":0.5},\"pattern\":{\"fillmode\":\"overlay\",\"size\":10,\"solidity\":0.2}},\"type\":\"bar\"}],\"scattergeo\":[{\"type\":\"scattergeo\",\"marker\":{\"colorbar\":{\"outlinewidth\":1,\"tickcolor\":\"rgb(36,36,36)\",\"ticks\":\"outside\"}}}],\"scatterpolar\":[{\"type\":\"scatterpolar\",\"marker\":{\"colorbar\":{\"outlinewidth\":1,\"tickcolor\":\"rgb(36,36,36)\",\"ticks\":\"outside\"}}}],\"histogram\":[{\"marker\":{\"line\":{\"color\":\"white\",\"width\":0.6}},\"type\":\"histogram\"}],\"scattergl\":[{\"type\":\"scattergl\",\"marker\":{\"colorbar\":{\"outlinewidth\":1,\"tickcolor\":\"rgb(36,36,36)\",\"ticks\":\"outside\"}}}],\"scatter3d\":[{\"type\":\"scatter3d\",\"line\":{\"colorbar\":{\"outlinewidth\":1,\"tickcolor\":\"rgb(36,36,36)\",\"ticks\":\"outside\"}},\"marker\":{\"colorbar\":{\"outlinewidth\":1,\"tickcolor\":\"rgb(36,36,36)\",\"ticks\":\"outside\"}}}],\"scattermapbox\":[{\"type\":\"scattermapbox\",\"marker\":{\"colorbar\":{\"outlinewidth\":1,\"tickcolor\":\"rgb(36,36,36)\",\"ticks\":\"outside\"}}}],\"scatterternary\":[{\"type\":\"scatterternary\",\"marker\":{\"colorbar\":{\"outlinewidth\":1,\"tickcolor\":\"rgb(36,36,36)\",\"ticks\":\"outside\"}}}],\"scattercarpet\":[{\"type\":\"scattercarpet\",\"marker\":{\"colorbar\":{\"outlinewidth\":1,\"tickcolor\":\"rgb(36,36,36)\",\"ticks\":\"outside\"}}}],\"carpet\":[{\"aaxis\":{\"endlinecolor\":\"rgb(36,36,36)\",\"gridcolor\":\"white\",\"linecolor\":\"white\",\"minorgridcolor\":\"white\",\"startlinecolor\":\"rgb(36,36,36)\"},\"baxis\":{\"endlinecolor\":\"rgb(36,36,36)\",\"gridcolor\":\"white\",\"linecolor\":\"white\",\"minorgridcolor\":\"white\",\"startlinecolor\":\"rgb(36,36,36)\"},\"type\":\"carpet\"}],\"table\":[{\"cells\":{\"fill\":{\"color\":\"rgb(237,237,237)\"},\"line\":{\"color\":\"white\"}},\"header\":{\"fill\":{\"color\":\"rgb(217,217,217)\"},\"line\":{\"color\":\"white\"}},\"type\":\"table\"}],\"barpolar\":[{\"marker\":{\"line\":{\"color\":\"white\",\"width\":0.5},\"pattern\":{\"fillmode\":\"overlay\",\"size\":10,\"solidity\":0.2}},\"type\":\"barpolar\"}],\"pie\":[{\"automargin\":true,\"type\":\"pie\"}]},\"layout\":{\"autotypenumbers\":\"strict\",\"colorway\":[\"#1F77B4\",\"#FF7F0E\",\"#2CA02C\",\"#D62728\",\"#9467BD\",\"#8C564B\",\"#E377C2\",\"#7F7F7F\",\"#BCBD22\",\"#17BECF\"],\"font\":{\"color\":\"rgb(36,36,36)\"},\"hovermode\":\"closest\",\"hoverlabel\":{\"align\":\"left\"},\"paper_bgcolor\":\"white\",\"plot_bgcolor\":\"white\",\"polar\":{\"bgcolor\":\"white\",\"angularaxis\":{\"gridcolor\":\"rgb(232,232,232)\",\"linecolor\":\"rgb(36,36,36)\",\"showgrid\":false,\"showline\":true,\"ticks\":\"outside\"},\"radialaxis\":{\"gridcolor\":\"rgb(232,232,232)\",\"linecolor\":\"rgb(36,36,36)\",\"showgrid\":false,\"showline\":true,\"ticks\":\"outside\"}},\"ternary\":{\"bgcolor\":\"white\",\"aaxis\":{\"gridcolor\":\"rgb(232,232,232)\",\"linecolor\":\"rgb(36,36,36)\",\"showgrid\":false,\"showline\":true,\"ticks\":\"outside\"},\"baxis\":{\"gridcolor\":\"rgb(232,232,232)\",\"linecolor\":\"rgb(36,36,36)\",\"showgrid\":false,\"showline\":true,\"ticks\":\"outside\"},\"caxis\":{\"gridcolor\":\"rgb(232,232,232)\",\"linecolor\":\"rgb(36,36,36)\",\"showgrid\":false,\"showline\":true,\"ticks\":\"outside\"}},\"coloraxis\":{\"colorbar\":{\"outlinewidth\":1,\"tickcolor\":\"rgb(36,36,36)\",\"ticks\":\"outside\"}},\"colorscale\":{\"sequential\":[[0.0,\"#440154\"],[0.1111111111111111,\"#482878\"],[0.2222222222222222,\"#3e4989\"],[0.3333333333333333,\"#31688e\"],[0.4444444444444444,\"#26828e\"],[0.5555555555555556,\"#1f9e89\"],[0.6666666666666666,\"#35b779\"],[0.7777777777777778,\"#6ece58\"],[0.8888888888888888,\"#b5de2b\"],[1.0,\"#fde725\"]],\"sequentialminus\":[[0.0,\"#440154\"],[0.1111111111111111,\"#482878\"],[0.2222222222222222,\"#3e4989\"],[0.3333333333333333,\"#31688e\"],[0.4444444444444444,\"#26828e\"],[0.5555555555555556,\"#1f9e89\"],[0.6666666666666666,\"#35b779\"],[0.7777777777777778,\"#6ece58\"],[0.8888888888888888,\"#b5de2b\"],[1.0,\"#fde725\"]],\"diverging\":[[0.0,\"rgb(103,0,31)\"],[0.1,\"rgb(178,24,43)\"],[0.2,\"rgb(214,96,77)\"],[0.3,\"rgb(244,165,130)\"],[0.4,\"rgb(253,219,199)\"],[0.5,\"rgb(247,247,247)\"],[0.6,\"rgb(209,229,240)\"],[0.7,\"rgb(146,197,222)\"],[0.8,\"rgb(67,147,195)\"],[0.9,\"rgb(33,102,172)\"],[1.0,\"rgb(5,48,97)\"]]},\"xaxis\":{\"gridcolor\":\"rgb(232,232,232)\",\"linecolor\":\"rgb(36,36,36)\",\"showgrid\":false,\"showline\":true,\"ticks\":\"outside\",\"title\":{\"standoff\":15},\"zerolinecolor\":\"rgb(36,36,36)\",\"automargin\":true,\"zeroline\":false},\"yaxis\":{\"gridcolor\":\"rgb(232,232,232)\",\"linecolor\":\"rgb(36,36,36)\",\"showgrid\":false,\"showline\":true,\"ticks\":\"outside\",\"title\":{\"standoff\":15},\"zerolinecolor\":\"rgb(36,36,36)\",\"automargin\":true,\"zeroline\":false},\"scene\":{\"xaxis\":{\"backgroundcolor\":\"white\",\"gridcolor\":\"rgb(232,232,232)\",\"linecolor\":\"rgb(36,36,36)\",\"showbackground\":true,\"showgrid\":false,\"showline\":true,\"ticks\":\"outside\",\"zerolinecolor\":\"rgb(36,36,36)\",\"gridwidth\":2,\"zeroline\":false},\"yaxis\":{\"backgroundcolor\":\"white\",\"gridcolor\":\"rgb(232,232,232)\",\"linecolor\":\"rgb(36,36,36)\",\"showbackground\":true,\"showgrid\":false,\"showline\":true,\"ticks\":\"outside\",\"zerolinecolor\":\"rgb(36,36,36)\",\"gridwidth\":2,\"zeroline\":false},\"zaxis\":{\"backgroundcolor\":\"white\",\"gridcolor\":\"rgb(232,232,232)\",\"linecolor\":\"rgb(36,36,36)\",\"showbackground\":true,\"showgrid\":false,\"showline\":true,\"ticks\":\"outside\",\"zerolinecolor\":\"rgb(36,36,36)\",\"gridwidth\":2,\"zeroline\":false}},\"shapedefaults\":{\"fillcolor\":\"black\",\"line\":{\"width\":0},\"opacity\":0.3},\"annotationdefaults\":{\"arrowhead\":0,\"arrowwidth\":1},\"geo\":{\"bgcolor\":\"white\",\"landcolor\":\"white\",\"subunitcolor\":\"white\",\"showland\":true,\"showlakes\":true,\"lakecolor\":\"white\"},\"title\":{\"x\":0.05},\"mapbox\":{\"style\":\"light\"}}},\"xaxis\":{\"anchor\":\"y\",\"domain\":[0.0,1.0],\"title\":{\"text\":\"Estimated Values - Original Values\"}},\"yaxis\":{\"anchor\":\"x\",\"domain\":[0.0,1.0],\"title\":{\"text\":\"Parameters\"}},\"legend\":{\"tracegroupgap\":0},\"margin\":{\"t\":60},\"height\":1000,\"shapes\":[{\"line\":{\"dash\":\"dash\",\"width\":3},\"type\":\"line\",\"x0\":0,\"x1\":0,\"xref\":\"x\",\"y0\":0,\"y1\":1,\"yref\":\"y domain\"}]},                        {\"responsive\": true}                    ).then(function(){\n",
       "                            \n",
       "var gd = document.getElementById('50e93208-0d2b-461b-9720-f157b66b6c4e');\n",
       "var x = new MutationObserver(function (mutations, observer) {{\n",
       "        var display = window.getComputedStyle(gd).display;\n",
       "        if (!display || display === 'none') {{\n",
       "            console.log([gd, 'removed!']);\n",
       "            Plotly.purge(gd);\n",
       "            observer.disconnect();\n",
       "        }}\n",
       "}});\n",
       "\n",
       "// Listen for the removal of the full notebook cells\n",
       "var notebookContainer = gd.closest('#notebook-container');\n",
       "if (notebookContainer) {{\n",
       "    x.observe(notebookContainer, {childList: true});\n",
       "}}\n",
       "\n",
       "// Listen for the clearing of the current output cell\n",
       "var outputEl = gd.closest('.output');\n",
       "if (outputEl) {{\n",
       "    x.observe(outputEl, {childList: true});\n",
       "}}\n",
       "\n",
       "                        })                };                });            </script>        </div>"
      ]
     },
     "metadata": {},
     "output_type": "display_data"
    }
   ],
   "source": [
    "fig = px.scatter(discrepency , y=discrepency.index, x='Mean', error_x='error_plus', error_x_minus='error_minus',\n",
    "                height=1000, labels={'name': 'Parameters', 'Mean': 'Estimated Values - Original Values'})\n",
    "fig.add_vline(x=0,line_width=3, line_dash=\"dash\",)\n",
    "fig.show()"
   ]
  }
 ],
 "metadata": {
  "kernelspec": {
   "display_name": "cmdstan",
   "language": "python",
   "name": "cmdstan"
  },
  "language_info": {
   "codemirror_mode": {
    "name": "ipython",
    "version": 3
   },
   "file_extension": ".py",
   "mimetype": "text/x-python",
   "name": "python",
   "nbconvert_exporter": "python",
   "pygments_lexer": "ipython3",
   "version": "3.10.4"
  }
 },
 "nbformat": 4,
 "nbformat_minor": 5
}
